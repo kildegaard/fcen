{
 "cells": [
  {
   "cell_type": "code",
   "execution_count": 5,
   "metadata": {},
   "outputs": [
    {
     "name": "stdout",
     "output_type": "stream",
     "text": [
      "-175.0\n"
     ]
    }
   ],
   "source": [
    "X = [1, 2, 3, 4, 5, 6]\n",
    "Y = [2, 4, 6, 8, 10, 12]\n",
    "\n",
    "x_mean = sum(X)/len(X)\n",
    "y_mean = sum(Y)/len(Y)\n",
    "\n",
    "const = 1 * (len(X)-1)\n",
    "\n",
    "cov_aux = [(x - x_mean)*(y - y_mean) for x, y in zip(X, Y)]\n",
    "cov = const * sum(cov_aux)\n",
    "print(cov)"
   ]
  },
  {
   "cell_type": "markdown",
   "metadata": {},
   "source": [
    "$cov(x, y) = \\frac{1}{n-1} . \\sum_{I=1}^{n}{(x-\\bar{x})\\times(y-\\bar{y})}$"
   ]
  }
 ],
 "metadata": {
  "kernelspec": {
   "display_name": "Python 3",
   "language": "python",
   "name": "python3"
  },
  "language_info": {
   "codemirror_mode": {
    "name": "ipython",
    "version": 3
   },
   "file_extension": ".py",
   "mimetype": "text/x-python",
   "name": "python",
   "nbconvert_exporter": "python",
   "pygments_lexer": "ipython3",
   "version": "3.8.5"
  }
 },
 "nbformat": 4,
 "nbformat_minor": 4
}
