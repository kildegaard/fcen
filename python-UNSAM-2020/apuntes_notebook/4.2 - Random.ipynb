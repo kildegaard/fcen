{
 "cells": [
  {
   "cell_type": "markdown",
   "metadata": {},
   "source": [
    "# Valores Random - Numpy"
   ]
  },
  {
   "cell_type": "markdown",
   "metadata": {},
   "source": [
    "Vamos a empezar a ver cositas relacionadas con números aleatorios"
   ]
  },
  {
   "cell_type": "code",
   "execution_count": 1,
   "metadata": {},
   "outputs": [],
   "source": [
    "import random\n",
    "from pprint import pprint as pp"
   ]
  },
  {
   "cell_type": "code",
   "execution_count": 3,
   "metadata": {},
   "outputs": [
    {
     "name": "stdout",
     "output_type": "stream",
     "text": [
      "[6, 1, 5, 6, 4]\n"
     ]
    }
   ],
   "source": [
    "# Lista de 5 números enteros aleatorios entre 1 y 6 \n",
    "# (una tirada de generala)\n",
    "int_rand = [random.randint(1, 6) for i in range(5)]\n",
    "print(int_rand)"
   ]
  },
  {
   "cell_type": "markdown",
   "metadata": {},
   "source": [
    "## Elecciones con reposición"
   ]
  },
  {
   "cell_type": "markdown",
   "metadata": {},
   "source": [
    "Son aquellas en las que tenemos un pool de datos y sacamos valores del mismo, devolviendo luego al pool dicho valor."
   ]
  },
  {
   "cell_type": "markdown",
   "metadata": {},
   "source": [
    "`random.choice(datos)`: saca un valor al azar\n",
    "<br>\n",
    "`random.choices(datos, k = valor)`: saca k valores al azar"
   ]
  },
  {
   "cell_type": "code",
   "execution_count": 13,
   "metadata": {},
   "outputs": [
    {
     "name": "stdout",
     "output_type": "stream",
     "text": [
      "uno\n",
      "['cuatro', 'tres', 'dos', 'dos', 'uno']\n"
     ]
    }
   ],
   "source": [
    "caras_dado = ['uno', 'dos', 'tres', 'cuatro', 'cinco', 'seis']\n",
    "print(random.choice(caras_dado))\n",
    "print(random.choices(caras_dado, k = 5))"
   ]
  },
  {
   "cell_type": "markdown",
   "metadata": {},
   "source": [
    "## Elecciones sin reposición"
   ]
  },
  {
   "cell_type": "markdown",
   "metadata": {},
   "source": [
    "Es como antes solo que retiramos dicho valor del pool de datos"
   ]
  },
  {
   "cell_type": "markdown",
   "metadata": {},
   "source": [
    "Uno de los ejemplos más comunes es el de un mazo de cartas"
   ]
  },
  {
   "cell_type": "code",
   "execution_count": 16,
   "metadata": {
    "scrolled": true
   },
   "outputs": [
    {
     "name": "stdout",
     "output_type": "stream",
     "text": [
      "[(1, 'oro'),\n",
      " (1, 'copa'),\n",
      " (1, 'espada'),\n",
      " (1, 'basto'),\n",
      " (2, 'oro'),\n",
      " (2, 'copa'),\n",
      " (2, 'espada'),\n",
      " (2, 'basto'),\n",
      " (3, 'oro'),\n",
      " (3, 'copa'),\n",
      " (3, 'espada'),\n",
      " (3, 'basto'),\n",
      " (4, 'oro'),\n",
      " (4, 'copa'),\n",
      " (4, 'espada'),\n",
      " (4, 'basto'),\n",
      " (5, 'oro'),\n",
      " (5, 'copa'),\n",
      " (5, 'espada'),\n",
      " (5, 'basto'),\n",
      " (6, 'oro'),\n",
      " (6, 'copa'),\n",
      " (6, 'espada'),\n",
      " (6, 'basto'),\n",
      " (7, 'oro'),\n",
      " (7, 'copa'),\n",
      " (7, 'espada'),\n",
      " (7, 'basto'),\n",
      " (10, 'oro'),\n",
      " (10, 'copa'),\n",
      " (10, 'espada'),\n",
      " (10, 'basto'),\n",
      " (11, 'oro'),\n",
      " (11, 'copa'),\n",
      " (11, 'espada'),\n",
      " (11, 'basto'),\n",
      " (12, 'oro'),\n",
      " (12, 'copa'),\n",
      " (12, 'espada'),\n",
      " (12, 'basto')]\n",
      "[(1, 'oro'),\n",
      " (2, 'oro'),\n",
      " (3, 'oro'),\n",
      " (4, 'oro'),\n",
      " (5, 'oro'),\n",
      " (6, 'oro'),\n",
      " (7, 'oro'),\n",
      " (10, 'oro'),\n",
      " (11, 'oro'),\n",
      " (12, 'oro'),\n",
      " (1, 'copa'),\n",
      " (2, 'copa'),\n",
      " (3, 'copa'),\n",
      " (4, 'copa'),\n",
      " (5, 'copa'),\n",
      " (6, 'copa'),\n",
      " (7, 'copa'),\n",
      " (10, 'copa'),\n",
      " (11, 'copa'),\n",
      " (12, 'copa'),\n",
      " (1, 'espada'),\n",
      " (2, 'espada'),\n",
      " (3, 'espada'),\n",
      " (4, 'espada'),\n",
      " (5, 'espada'),\n",
      " (6, 'espada'),\n",
      " (7, 'espada'),\n",
      " (10, 'espada'),\n",
      " (11, 'espada'),\n",
      " (12, 'espada'),\n",
      " (1, 'basto'),\n",
      " (2, 'basto'),\n",
      " (3, 'basto'),\n",
      " (4, 'basto'),\n",
      " (5, 'basto'),\n",
      " (6, 'basto'),\n",
      " (7, 'basto'),\n",
      " (10, 'basto'),\n",
      " (11, 'basto'),\n",
      " (12, 'basto')]\n"
     ]
    }
   ],
   "source": [
    "valores = [1, 2, 3, 4, 5, 6, 7, 10, 11, 12]\n",
    "palos = ['oro', 'copa', 'espada', 'basto']\n",
    "naipes  = [(valor, palo) for valor in valores for palo in palos]\n",
    "naipes2 = [(valor, palo) for palo in palos for valor in valores]\n",
    "pp(naipes)\n",
    "pp(naipes2)"
   ]
  },
  {
   "cell_type": "markdown",
   "metadata": {},
   "source": [
    "Como extra, podemos ver que cuando tenemos 2 `for` en una comprensión de listas la más externa es la que tiene mayor precedencia.\n",
    "<br>\n",
    "En el caso de arriba, vemos que en `naipes` pasa lo siguiente:\n",
    " - Agarra un palo en **palos**\n",
    " - Para dicho palo recorre el for más interno y lo asocia con los 10 valores\n",
    " - Luego va al siguiente palo.\n",
    "En `naipes2` vemos el caso contrario:\n",
    " - Para cada valor en **valores** recorre el for interno por cada palo\n"
   ]
  },
  {
   "cell_type": "markdown",
   "metadata": {},
   "source": [
    "Volviendo, ahora podemos optar por una **elección sin reposición**"
   ]
  },
  {
   "cell_type": "code",
   "execution_count": 17,
   "metadata": {},
   "outputs": [
    {
     "name": "stdout",
     "output_type": "stream",
     "text": [
      "[(3, 'espada'), (1, 'oro'), (4, 'copa')]\n"
     ]
    }
   ],
   "source": [
    "print(random.sample(naipes, k = 3))"
   ]
  },
  {
   "cell_type": "markdown",
   "metadata": {},
   "source": [
    "Acá  vemos el uso de `random.sample(lista, k = valor)`\n",
    "<br>\n",
    "Saca k valores de la lista sin reponerlos en la misma."
   ]
  },
  {
   "cell_type": "markdown",
   "metadata": {},
   "source": [
    "También podemos mezclar"
   ]
  },
  {
   "cell_type": "code",
   "execution_count": 3,
   "metadata": {},
   "outputs": [
    {
     "data": {
      "text/plain": [
       "[6, 8, 3, 4, 1, 5, 9, 2, 7]"
      ]
     },
     "execution_count": 3,
     "metadata": {},
     "output_type": "execute_result"
    }
   ],
   "source": [
    "valores = [1, 2, 3, 4, 5, 6, 7, 8, 9]\n",
    "random.shuffle(valores)\n",
    "valores"
   ]
  },
  {
   "cell_type": "markdown",
   "metadata": {},
   "source": [
    "La función `random.random()` puede generar valores continuos"
   ]
  },
  {
   "cell_type": "code",
   "execution_count": 4,
   "metadata": {},
   "outputs": [
    {
     "data": {
      "text/plain": [
       "0.4582206426939319"
      ]
     },
     "execution_count": 4,
     "metadata": {},
     "output_type": "execute_result"
    }
   ],
   "source": [
    "numero = random.random()\n",
    "numero"
   ]
  },
  {
   "cell_type": "markdown",
   "metadata": {},
   "source": [
    "Los valores aleatorios generados hasta el momento tienen distribución uniforme (todos ellos tienen la misma probabilidad de salir).\n",
    "<br>\n",
    "Podemos también generar valores aleatorios con distintas distribuciones, por ejemplo, **distribución normal**."
   ]
  },
  {
   "cell_type": "code",
   "execution_count": 7,
   "metadata": {},
   "outputs": [
    {
     "data": {
      "text/plain": [
       "[0.43366120542615916,\n",
       " 2.3606860808364925,\n",
       " 1.317750459798063,\n",
       " 2.570391935247617,\n",
       " 1.658145940599777,\n",
       " 0.34184814153005305,\n",
       " 0.6843107948112759,\n",
       " 1.9098070215816496,\n",
       " 2.5880967381357247,\n",
       " 1.9258267722220501]"
      ]
     },
     "execution_count": 7,
     "metadata": {},
     "output_type": "execute_result"
    }
   ],
   "source": [
    "[random.normalvariate(mu = 1, sigma = 1) for i in range(10)]"
   ]
  },
  {
   "cell_type": "code",
   "execution_count": null,
   "metadata": {},
   "outputs": [],
   "source": []
  }
 ],
 "metadata": {
  "kernelspec": {
   "display_name": "Python 3",
   "language": "python",
   "name": "python3"
  },
  "language_info": {
   "codemirror_mode": {
    "name": "ipython",
    "version": 3
   },
   "file_extension": ".py",
   "mimetype": "text/x-python",
   "name": "python",
   "nbconvert_exporter": "python",
   "pygments_lexer": "ipython3",
   "version": "3.8.3"
  }
 },
 "nbformat": 4,
 "nbformat_minor": 4
}
