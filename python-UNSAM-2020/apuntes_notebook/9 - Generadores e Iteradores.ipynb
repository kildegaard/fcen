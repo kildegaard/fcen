{
 "cells": [
  {
   "cell_type": "markdown",
   "metadata": {},
   "source": [
    "# Generadores e Iteradores"
   ]
  },
  {
   "cell_type": "markdown",
   "metadata": {},
   "source": [
    "Programar es básicamente escribir condicionales, ciclos y asignaciones de variables. Aunque no de cualquier forma.\n",
    "\n",
    "Los ciclos, ya sean ciclos `while` o iteraciones `for` son una de las estructuras más ubicuas en cualquier lenguaje. Los programas hacen muchas iteraciones para procesar listas, leer archivos, buscar en bases de datos y demás.\n",
    "\n",
    "Una de las características más poderosas de Python es la capacidad de redefinir la iteración mediante las llamadas **\"funciones generadoras\"**. En esta sección veremos de que se trata ésto. Hacia el final vas a escribir programas que procesan datos **en tiempo real**, a medida que son generados.\n",
    "\n",
    "Terminamos la clase con un ejercicio optativo que combina dos temas importantes: objetos y simulaciones. El ejercicio optativo propone simular en el espacio y tiempo la dinámica predador-presa utilizando para esto programación orientada a objetos."
   ]
  },
  {
   "cell_type": "markdown",
   "metadata": {},
   "source": [
    "## El Protocolo de Iteración"
   ]
  },
  {
   "cell_type": "markdown",
   "metadata": {},
   "source": [
    "En el fondo, un for no es más que esto:"
   ]
  },
  {
   "cell_type": "markdown",
   "metadata": {},
   "source": [
    "```python\n",
    "for x in obj:\n",
    "    # instrucciones\n",
    "\n",
    "###\n",
    "\n",
    "_iter = obj.__iter__()        # Buscar el objeto iterador\n",
    "while True:\n",
    "    try:\n",
    "        x = _iter.__next__()  # Dame el siguiente item\n",
    "    except StopIteration:     # No hay más items\n",
    "        break\n",
    "    # instrucciones ...\n",
    "```"
   ]
  },
  {
   "cell_type": "markdown",
   "metadata": {},
   "source": [
    "Por ejemplo, si quisiéramos iterar manualmente una lista:"
   ]
  },
  {
   "cell_type": "code",
   "execution_count": 7,
   "metadata": {},
   "outputs": [
    {
     "data": {
      "text/plain": [
       "1"
      ]
     },
     "execution_count": 7,
     "metadata": {},
     "output_type": "execute_result"
    }
   ],
   "source": [
    "lista = [1, 2, 3]\n",
    "it = lista.__iter__()\n",
    "\n",
    "it.__next__()"
   ]
  },
  {
   "cell_type": "code",
   "execution_count": 8,
   "metadata": {},
   "outputs": [
    {
     "data": {
      "text/plain": [
       "2"
      ]
     },
     "execution_count": 8,
     "metadata": {},
     "output_type": "execute_result"
    }
   ],
   "source": [
    "it.__next__()"
   ]
  },
  {
   "cell_type": "code",
   "execution_count": 9,
   "metadata": {},
   "outputs": [
    {
     "data": {
      "text/plain": [
       "3"
      ]
     },
     "execution_count": 9,
     "metadata": {},
     "output_type": "execute_result"
    }
   ],
   "source": [
    "it.__next__()"
   ]
  },
  {
   "cell_type": "code",
   "execution_count": 10,
   "metadata": {},
   "outputs": [
    {
     "ename": "StopIteration",
     "evalue": "",
     "output_type": "error",
     "traceback": [
      "\u001b[0;31m-----------------------------------\u001b[0m",
      "\u001b[0;31mStopIteration\u001b[0mTraceback (most recent call last)",
      "\u001b[0;32m<ipython-input-10-74e64ed6c80d>\u001b[0m in \u001b[0;36m<module>\u001b[0;34m\u001b[0m\n\u001b[0;32m----> 1\u001b[0;31m \u001b[0mit\u001b[0m\u001b[0;34m.\u001b[0m\u001b[0m__next__\u001b[0m\u001b[0;34m(\u001b[0m\u001b[0;34m)\u001b[0m\u001b[0;34m\u001b[0m\u001b[0;34m\u001b[0m\u001b[0m\n\u001b[0m",
      "\u001b[0;31mStopIteration\u001b[0m: "
     ]
    }
   ],
   "source": [
    "it.__next__()"
   ]
  },
  {
   "cell_type": "markdown",
   "metadata": {},
   "source": [
    "### Construyendo un ITERABLE"
   ]
  },
  {
   "cell_type": "markdown",
   "metadata": {},
   "source": [
    "```python\n",
    "class Camion:\n",
    "    def __init__(self):\n",
    "        self.lotes = []\n",
    "        \n",
    "    def __iter__(self):\n",
    "        return self.lotes.__iter__()\n",
    "    \n",
    "```"
   ]
  },
  {
   "cell_type": "markdown",
   "metadata": {},
   "source": [
    "Se puede usar la función nativa de python `next()` como atajo al `__next__()`"
   ]
  },
  {
   "cell_type": "markdown",
   "metadata": {},
   "source": [
    "## Generadores"
   ]
  },
  {
   "cell_type": "markdown",
   "metadata": {},
   "source": [
    "Un generador es una función que **define un patrón de iteración**"
   ]
  },
  {
   "cell_type": "code",
   "execution_count": 1,
   "metadata": {},
   "outputs": [],
   "source": [
    "def regresiva(n):\n",
    "    while n>0:\n",
    "        yield n\n",
    "        n -= 1"
   ]
  },
  {
   "cell_type": "code",
   "execution_count": 4,
   "metadata": {},
   "outputs": [
    {
     "name": "stdout",
     "output_type": "stream",
     "text": [
      "10 9 8 7 6 5 4 3 2 1 "
     ]
    }
   ],
   "source": [
    "for i in regresiva(10):\n",
    "    print(i, end=' ')"
   ]
  },
  {
   "cell_type": "markdown",
   "metadata": {},
   "source": [
    "Un generador es cualquier función que usa el commando yield.\n",
    "\n",
    "El comportamiento de los generadores es algo diferente al del resto de las funciones.\n",
    "\n",
    "Al llamar a un generador creás un objeto generador, pero su función no se ejecuta de inmediato."
   ]
  },
  {
   "cell_type": "code",
   "execution_count": 5,
   "metadata": {},
   "outputs": [],
   "source": [
    "def regresiva(n):\n",
    "    # Agreguemos este print para ver qué pasa...\n",
    "    print('Cuenta regresiva desde', n)\n",
    "    while n > 0:\n",
    "        yield n\n",
    "        n -= 1"
   ]
  },
  {
   "cell_type": "code",
   "execution_count": 6,
   "metadata": {},
   "outputs": [],
   "source": [
    "x = regresiva(10)"
   ]
  },
  {
   "cell_type": "code",
   "execution_count": 7,
   "metadata": {},
   "outputs": [
    {
     "data": {
      "text/plain": [
       "<generator object regresiva at 0x7f7e18cbd120>"
      ]
     },
     "execution_count": 7,
     "metadata": {},
     "output_type": "execute_result"
    }
   ],
   "source": [
    "x"
   ]
  },
  {
   "cell_type": "markdown",
   "metadata": {},
   "source": [
    "La función sólo se ejecuta ante un llamado al método `__next__()`"
   ]
  },
  {
   "cell_type": "code",
   "execution_count": 8,
   "metadata": {},
   "outputs": [
    {
     "name": "stdout",
     "output_type": "stream",
     "text": [
      "Cuenta regresiva desde 10\n"
     ]
    },
    {
     "data": {
      "text/plain": [
       "10"
      ]
     },
     "execution_count": 8,
     "metadata": {},
     "output_type": "execute_result"
    }
   ],
   "source": [
    "x.__next__()"
   ]
  },
  {
   "cell_type": "code",
   "execution_count": 9,
   "metadata": {},
   "outputs": [
    {
     "name": "stdout",
     "output_type": "stream",
     "text": [
      "9\n"
     ]
    }
   ],
   "source": [
    "a = next(x)\n",
    "print(a)"
   ]
  },
  {
   "cell_type": "markdown",
   "metadata": {},
   "source": [
    "**Observación:** Una función generadora implementa el mismo protocolo de bajo nivel que los `for` usan sobre listas, tuplas, diccionarios, archivos, etc. ¡Por eso es tan sencillo usar los generadores para iterar!"
   ]
  },
  {
   "cell_type": "markdown",
   "metadata": {},
   "source": [
    "***"
   ]
  },
  {
   "cell_type": "markdown",
   "metadata": {},
   "source": [
    "Si te encontrás con la necesidad de obtener una iteración particular, pensá en usar funciones generadoras. \n",
    "\n",
    "Son fáciles de escribir: simplemente hacé una función que implemente la lógica de iteración deseada y use yield para entregar valores.\n",
    "\n",
    "Por ejemplo, probá este generador que busca un archivo y entrega las líneas que incluyen cierto substring."
   ]
  },
  {
   "cell_type": "code",
   "execution_count": 11,
   "metadata": {},
   "outputs": [
    {
     "name": "stdout",
     "output_type": "stream",
     "text": [
      "nombre,cajones,precio\n",
      "Lima,100,32.2\n",
      "Naranja,50,91.1\n",
      "Caqui,150,103.44\n",
      "Mandarina,200,51.23\n",
      "Durazno,95,40.37\n",
      "Mandarina,50,65.1\n",
      "Naranja,100,70.44\n"
     ]
    }
   ],
   "source": [
    "def filematch(filename, substr):\n",
    "    with open(filename, 'r') as f:\n",
    "        for line in f:\n",
    "            if substr in line:\n",
    "                yield line\n",
    "\n",
    "for line in open('../Data/camion.csv'):\n",
    "    print(line, end='')"
   ]
  },
  {
   "cell_type": "code",
   "execution_count": 13,
   "metadata": {},
   "outputs": [
    {
     "name": "stdout",
     "output_type": "stream",
     "text": [
      "Naranja,50,91.1\n",
      "Naranja,100,70.44\n"
     ]
    }
   ],
   "source": [
    "for line in filematch('../Data/camion.csv', 'Naranja'):\n",
    "    print(line, end='')"
   ]
  },
  {
   "cell_type": "markdown",
   "metadata": {},
   "source": [
    "Esta idea es muy interesante: podés armar una función que **encapsule** todo el procesamiento de datos y después recorrerla con un ciclo for para que te entregue los datos uno a uno."
   ]
  },
  {
   "cell_type": "markdown",
   "metadata": {},
   "source": [
    "***"
   ]
  },
  {
   "cell_type": "markdown",
   "metadata": {},
   "source": [
    "**Un generador puede ser una forma interesante de vigilar datos a medida que son producidos.**"
   ]
  },
  {
   "cell_type": "markdown",
   "metadata": {},
   "source": [
    "Acá hay una serie de ejercicios hechos **MUY ZARPADOS**. Estaría bueno volver a leer esto después de un tiempo a ver si decantó. Son los ejercicios de 9.5 a 9.7"
   ]
  },
  {
   "cell_type": "markdown",
   "metadata": {},
   "source": [
    "## Productores, Consumidores y Cañerías"
   ]
  },
  {
   "cell_type": "markdown",
   "metadata": {},
   "source": [
    "Los *generadores* son una herramienta muy útil para configurar **pipelines** (cañerías). \n",
    "\n",
    "Este concepto requiere una breve aclaración: Un pipeline tradicional en computación consta de una serie de programas y archivos asociados que constituyen una estructura de procesamiento de datos, donde cada programa se ejecuta independientemente de los demás, pero juntos resultan en un flujo conveniente de datos a través de los archivos asociados desde un **\"productor\"** (una cámara, un sensor, un lector de código de barras) hasta un **\"consumidor\"** (un graficador, un interruptor eléctrico, un log de una página web)"
   ]
  },
  {
   "cell_type": "markdown",
   "metadata": {},
   "source": [
    "### Sistemas productor-consumidor"
   ]
  },
  {
   "cell_type": "markdown",
   "metadata": {},
   "source": [
    "El concepto de generadores está íntimamente asociado a problemas de tipo productor-consumidor en sus varias formas. Fijate esta estructura, que es típica de muchos programas:"
   ]
  },
  {
   "cell_type": "markdown",
   "metadata": {},
   "source": [
    "```python\n",
    "\n",
    "# Productor\n",
    "def vigilar(f):\n",
    "    ...\n",
    "    while True:\n",
    "        ...\n",
    "        yield linea        # Produce/obtiene valores para \"linea\"\n",
    "        ...\n",
    "\n",
    "# Consumidor\n",
    "for linea in vigilar(f):    # Consume líneas del `yield`\n",
    "    ...\n",
    "\n",
    "```"
   ]
  },
  {
   "cell_type": "markdown",
   "metadata": {},
   "source": [
    "Los `yield` generan los datos que los `for` consumen."
   ]
  },
  {
   "cell_type": "markdown",
   "metadata": {},
   "source": [
    "### **Pipelines con generadores**"
   ]
  },
  {
   "cell_type": "markdown",
   "metadata": {},
   "source": [
    "Podés usar esta característica de los generadores para construír pipelines que procesen tus datos, un concepto que es muy usado en Unix (pipes) pero en Windows se usa menos.\n",
    "\n",
    "```python\n",
    "productor → procesamiento → procesamiento → consumidor\n",
    "```\n",
    "\n",
    "Los pipelines de procesamiento de datos tienen un productor al comienzo, una cadena de etapas de procesamiento y un consumidor al final."
   ]
  },
  {
   "cell_type": "markdown",
   "metadata": {},
   "source": [
    "#### **Productor**"
   ]
  },
  {
   "cell_type": "markdown",
   "metadata": {},
   "source": [
    "```python\n",
    "def productor():\n",
    "    ...\n",
    "    yield item\n",
    "    ...\n",
    "```"
   ]
  },
  {
   "cell_type": "markdown",
   "metadata": {},
   "source": [
    "El **productor** es en general un <u>generador</u>, aunque tambien podría ser una lista o cualquier otra secuencia iterable.\n",
    "\n",
    "El `yield` alimenta al pipeline de datos."
   ]
  },
  {
   "cell_type": "markdown",
   "metadata": {},
   "source": [
    "#### **Consumidor**"
   ]
  },
  {
   "cell_type": "markdown",
   "metadata": {},
   "source": [
    "```python\n",
    "\n",
    "def consumidor(s):\n",
    "    for item in s:\n",
    "        ...\n",
    "```"
   ]
  },
  {
   "cell_type": "markdown",
   "metadata": {},
   "source": [
    "El **consumidor** es un ciclo `for`. Obtiene los elementos `item` y los usa para algo."
   ]
  },
  {
   "cell_type": "markdown",
   "metadata": {},
   "source": [
    "#### **Procesamiento**"
   ]
  },
  {
   "cell_type": "markdown",
   "metadata": {},
   "source": [
    "```python\n",
    "def procesamiento(s):\n",
    "    for item in s:\n",
    "        ...\n",
    "        yield itemnuevo\n",
    "        ...\n",
    "```"
   ]
  },
  {
   "cell_type": "markdown",
   "metadata": {},
   "source": [
    "Las etapas intermedias de procesamiento simultáneamente consumen y producen datos, pueden alterar el flujo de datos, eliminar o modificar datos según su función."
   ]
  },
  {
   "cell_type": "markdown",
   "metadata": {},
   "source": [
    "Todo junto:\n",
    "\n",
    "```python\n",
    "def productor():\n",
    "    ...\n",
    "    yield item          # yield devuelve un item que será recibido por `procesamiento`\n",
    "    ...\n",
    "\n",
    "def procesamiento(s):\n",
    "    for item in s:      # item viene del `productor`\n",
    "        ...\n",
    "        yield newitem   # este yield devuelve un nuevo item\n",
    "        ...\n",
    "\n",
    "def consumidor(s):\n",
    "    for item in s:      # item viene de `procesamiento`\n",
    "        ...\n",
    "```"
   ]
  },
  {
   "cell_type": "markdown",
   "metadata": {},
   "source": []
  }
 ],
 "metadata": {
  "kernelspec": {
   "display_name": "Python 3.8.5 64-bit",
   "language": "python",
   "name": "python38564bitd039cb132626430baf307fd5ffddc8c9"
  },
  "language_info": {
   "codemirror_mode": {
    "name": "ipython",
    "version": 3
   },
   "file_extension": ".py",
   "mimetype": "text/x-python",
   "name": "python",
   "nbconvert_exporter": "python",
   "pygments_lexer": "ipython3",
   "version": "3.8.5"
  }
 },
 "nbformat": 4,
 "nbformat_minor": 4
}
