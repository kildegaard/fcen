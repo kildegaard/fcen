{
 "cells": [
  {
   "cell_type": "markdown",
   "metadata": {},
   "source": [
    "# Strings - cosas interesantes"
   ]
  },
  {
   "cell_type": "markdown",
   "metadata": {},
   "source": [
    "Ya sabemos muchas cosas de estos muchachos, pero vamos a dejar asentadas ciertas cuestiones que pueden venir muy útiles dada la situación."
   ]
  },
  {
   "cell_type": "markdown",
   "metadata": {},
   "source": [
    "<u>Códigos de escape:</u>"
   ]
  },
  {
   "cell_type": "raw",
   "metadata": {},
   "source": [
    "- \\n    Avanzar una línea\n",
    "- \\r    Retorno de carro\n",
    "- \\t    Tabulador\n",
    "- \\'    Comilla simple\n",
    "- \\\"    Comilla doble\n",
    "- \\\\    Barra invertida"
   ]
  },
  {
   "cell_type": "markdown",
   "metadata": {},
   "source": [
    "<u>Métodos de cadenas:</u>"
   ]
  },
  {
   "cell_type": "raw",
   "metadata": {},
   "source": [
    "s.endswith(suffix)     # Verifica si termina con el sufijo\n",
    "s.find(t)              # Primera aparición de t en s (o -1 si no está)\n",
    "s.index(t)             # Primera aparición de t en s (error si no está)\n",
    "s.isalpha()            # Verifica si los caracteres son alfabéticos\n",
    "s.isdigit()            # Verifica si los caracteres son numéricos\n",
    "s.islower()            # Verifica si los caracteres son minúsculas\n",
    "s.isupper()            # Verifica si los caracteres son mayúsculas\n",
    "s.join(slist)          # Une una lista de cadenas usando s como delimitador\n",
    "s.lower()              # Convertir a minúsculas\n",
    "s.replace(old,new)     # Reemplaza texto\n",
    "s.split([delim])       # Parte la cadena en subcadenas\n",
    "s.startswith(prefix)   # Verifica si comienza con un sufijo\n",
    "s.strip()              # Elimina espacios en blanco al inicio o al final\n",
    "s.upper()              # Convierte a mayúsculas"
   ]
  },
  {
   "cell_type": "markdown",
   "metadata": {},
   "source": [
    "## f-Strings"
   ]
  },
  {
   "cell_type": "markdown",
   "metadata": {},
   "source": [
    "Los f-strings son una masa. Es una forma muy linda y copada de armar los print."
   ]
  },
  {
   "cell_type": "code",
   "execution_count": 5,
   "metadata": {},
   "outputs": [
    {
     "name": "stdout",
     "output_type": "stream",
     "text": [
      "Gustavo tiene 32 años y es argentino.\n"
     ]
    }
   ],
   "source": [
    "datos = {\n",
    "    'nombre': 'Gustavo',\n",
    "    'edad': 32,\n",
    "    'nacionalidad': 'argentino'\n",
    "}\n",
    "print(f'{datos[\"nombre\"]} tiene {datos[\"edad\"]} años y es {datos[\"nacionalidad\"]}.')"
   ]
  },
  {
   "cell_type": "markdown",
   "metadata": {},
   "source": [
    "Podés jugar con los valores, está bueno para centrar!"
   ]
  },
  {
   "cell_type": "code",
   "execution_count": 6,
   "metadata": {},
   "outputs": [
    {
     "data": {
      "text/plain": [
       "[{'nombre': 'Naranja', 'cajones': 100, 'precio': 490.1},\n",
       " {'nombre': 'Pera', 'cajones': 50, 'precio': 350.5},\n",
       " {'nombre': 'Mandarina', 'cajones': 150, 'precio': 125.3}]"
      ]
     },
     "execution_count": 6,
     "metadata": {},
     "output_type": "execute_result"
    }
   ],
   "source": [
    "lista = [\n",
    "    {'nombre':'Naranja', 'cajones':100, 'precio':490.1},\n",
    "    {'nombre':'Pera', 'cajones':50, 'precio':350.5},\n",
    "    {'nombre':'Mandarina', 'cajones':150, 'precio':125.3}\n",
    "]\n",
    "lista"
   ]
  },
  {
   "cell_type": "code",
   "execution_count": 26,
   "metadata": {},
   "outputs": [
    {
     "name": "stdout",
     "output_type": "stream",
     "text": [
      "Frutas\tNº Cajones\tPrecio\n",
      "Naranja   \t100\t$490.10\n",
      "Pera      \t50\t$350.50\n",
      "Mandarina \t150\t$125.30\n"
     ]
    }
   ],
   "source": [
    "print(f'Frutas\\tNº Cajones\\tPrecio')\n",
    "for elementos in lista:\n",
    "    print(f\"{elementos['nombre']:<10s}\\t{elementos['cajones']:>d}\\t${elementos['precio']:>.2f}\")"
   ]
  },
  {
   "cell_type": "code",
   "execution_count": null,
   "metadata": {},
   "outputs": [],
   "source": []
  }
 ],
 "metadata": {
  "kernelspec": {
   "display_name": "Python 3",
   "language": "python",
   "name": "python3"
  },
  "language_info": {
   "codemirror_mode": {
    "name": "ipython",
    "version": 3
   },
   "file_extension": ".py",
   "mimetype": "text/x-python",
   "name": "python",
   "nbconvert_exporter": "python",
   "pygments_lexer": "ipython3",
   "version": "3.8.3"
  }
 },
 "nbformat": 4,
 "nbformat_minor": 4
}
