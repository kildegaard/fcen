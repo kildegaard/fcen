{
 "cells": [
  {
   "cell_type": "markdown",
   "metadata": {},
   "source": [
    "<h1>Objetos (básicamente todo en Python es un objeto!)</h1>"
   ]
  },
  {
   "cell_type": "markdown",
   "metadata": {},
   "source": [
    "Cuando asignamos valores entre variables **nunca se efectúa una copia** del valor, sino sus referencias (*punteros*) hacia la dirección de memoria donde se aloja el valor."
   ]
  },
  {
   "cell_type": "markdown",
   "metadata": {},
   "source": [
    "En el ejemplo siguiente vemos que esto no pasa"
   ]
  },
  {
   "cell_type": "code",
   "execution_count": 6,
   "metadata": {
    "tags": []
   },
   "outputs": [
    {
     "name": "stdout",
     "output_type": "stream",
     "text": [
      "50 1669724864 50 1669724864\n",
      "100 50\n"
     ]
    }
   ],
   "source": [
    "a = 50\n",
    "b = a\n",
    "print(a, id(a), b, id(b))\n",
    "a = 100\n",
    "print(a, b)"
   ]
  },
  {
   "cell_type": "markdown",
   "metadata": {},
   "source": [
    "Sin embargo, cuando hablamos de listas..."
   ]
  },
  {
   "cell_type": "code",
   "execution_count": 21,
   "metadata": {
    "tags": []
   },
   "outputs": [
    {
     "name": "stdout",
     "output_type": "stream",
     "text": [
      "True\n",
      "[1, 2, 3] [1, 2, 3] [[1, 2, 3], [1, 2, 3]]\n",
      "[1, 2, 3, 100] [1, 2, 3, 100] [[1, 2, 3, 100], [1, 2, 3, 100]]\n",
      "99648648 99648648 99648648 99648648\n"
     ]
    }
   ],
   "source": [
    "a = [1, 2, 3]\n",
    "b = a\n",
    "print(a is b)\n",
    "c = [a, b]\n",
    "print(a, b, c)\n",
    "a.append(100)\n",
    "print(a, b, c)\n",
    "print(id(a), id(b), id(c[0]), id(c[1]))"
   ]
  },
  {
   "cell_type": "markdown",
   "metadata": {},
   "source": [
    "Las listas y los diccionarios tienen métodos para hacer copias reales de los valores."
   ]
  },
  {
   "cell_type": "code",
   "execution_count": 38,
   "metadata": {},
   "outputs": [
    {
     "data": {
      "text/plain": [
       "False"
      ]
     },
     "execution_count": 38,
     "metadata": {},
     "output_type": "execute_result"
    }
   ],
   "source": [
    "a2 = [2, 3, [100, 101], 4]\n",
    "b2 = list(a)\n",
    "a2 is b2"
   ]
  },
  {
   "cell_type": "markdown",
   "metadata": {},
   "source": [
    "Vemos que 'b' es una lista nueva, con un valor de `id` distinto del de a"
   ]
  },
  {
   "cell_type": "code",
   "execution_count": 39,
   "metadata": {
    "tags": []
   },
   "outputs": [
    {
     "name": "stdout",
     "output_type": "stream",
     "text": [
      "[1, 2, 3, [100, 101], 4]\n",
      "[2, 3, [100, 101], 4]\n"
     ]
    }
   ],
   "source": [
    "a2.insert(0, 1)\n",
    "print(a2)\n",
    "print(b2)"
   ]
  },
  {
   "cell_type": "markdown",
   "metadata": {},
   "source": [
    "Sin embargo, veamos algo curioso."
   ]
  },
  {
   "cell_type": "code",
   "execution_count": 41,
   "metadata": {
    "tags": []
   },
   "outputs": [
    {
     "name": "stdout",
     "output_type": "stream",
     "text": [
      "[1, 2, [100, 101], 3, 4, 5]\n",
      "[1, 2, [100, 101], 3, 4]\n",
      "[1, 2, [100, 101, 102], 3, 4, 5]\n",
      "[1, 2, [100, 101, 102], 3, 4]\n"
     ]
    }
   ],
   "source": [
    "a1 = [1, 2, [100, 101], 3, 4]\n",
    "b1 = list(a1)\n",
    "a1.append(5)\n",
    "print(a1)\n",
    "print(b1)\n",
    "a1[2].append(102)\n",
    "print(a1)\n",
    "print(b1)"
   ]
  },
  {
   "cell_type": "markdown",
   "metadata": {},
   "source": [
    "Vemos que la **lista interna** seguía estando compartida en cierta forma!<br>\n",
    "A esto se le llama *shallow copy* o copia superficial. Veamos que podemos hacer copias profundas (*deep copy*)"
   ]
  },
  {
   "cell_type": "code",
   "execution_count": 44,
   "metadata": {
    "tags": []
   },
   "outputs": [
    {
     "name": "stdout",
     "output_type": "stream",
     "text": [
      "[1, 2, [100, 101, 102], 3, 4, 5]\n",
      "[1, 2, [100, 101, 102], 3, 4]\n",
      "[1, 2, [100, 101, 102], 3, 4, 5]\n",
      "[1, 2, [100, 101], 3, 4]\n"
     ]
    }
   ],
   "source": [
    "import copy\n",
    "\n",
    "a3 = [1, 2, [100, 101], 3, 4]\n",
    "b3 = copy.deepcopy(a3)\n",
    "a3.append(5)\n",
    "print(a1)\n",
    "print(b1)\n",
    "a3[2].append(102)\n",
    "print(a3)\n",
    "print(b3)"
   ]
  },
  {
   "cell_type": "markdown",
   "metadata": {},
   "source": [
    "Acá se realizó una copia profunda (hasta el último nivel de profundidad en la variabla a3)"
   ]
  },
  {
   "cell_type": "markdown",
   "metadata": {},
   "source": [
    "<h2> Verificación de tipos </h2>"
   ]
  },
  {
   "cell_type": "markdown",
   "metadata": {},
   "source": [
    "Tenemos un par de funciones copadas para corroborar tipo de datos"
   ]
  },
  {
   "cell_type": "code",
   "execution_count": 46,
   "metadata": {},
   "outputs": [
    {
     "data": {
      "text/plain": [
       "True"
      ]
     },
     "execution_count": 46,
     "metadata": {},
     "output_type": "execute_result"
    }
   ],
   "source": [
    "a = [1, 2, 3]\n",
    "isinstance(a, list)"
   ]
  },
  {
   "cell_type": "code",
   "execution_count": 47,
   "metadata": {},
   "outputs": [
    {
     "data": {
      "text/plain": [
       "True"
      ]
     },
     "execution_count": 47,
     "metadata": {},
     "output_type": "execute_result"
    }
   ],
   "source": [
    "b = {}\n",
    "isinstance(b, (list, tuple, dict))"
   ]
  },
  {
   "cell_type": "markdown",
   "metadata": {},
   "source": [
    "<h2> Todo es un objeto </h2>"
   ]
  },
  {
   "cell_type": "markdown",
   "metadata": {},
   "source": [
    "Números, cadenas, listas, funciones, excepciones, clases, instancias, etc. son todos objetos. Esto significa que pueden ser nombrados, pueden ser pasados como datos, ubicados en contenedores, etc. sin restricciones. No hay objetos especiales en Python."
   ]
  },
  {
   "cell_type": "code",
   "execution_count": 48,
   "metadata": {
    "tags": []
   },
   "outputs": [
    {
     "name": "stdout",
     "output_type": "stream",
     "text": [
      "[<built-in function abs>, <module 'math' (built-in)>, <class 'ValueError'>]\n"
     ]
    }
   ],
   "source": [
    "import math\n",
    "items = [abs, math, ValueError]\n",
    "print(items)"
   ]
  },
  {
   "cell_type": "code",
   "execution_count": 49,
   "metadata": {},
   "outputs": [
    {
     "data": {
      "text/plain": [
       "45"
      ]
     },
     "execution_count": 49,
     "metadata": {},
     "output_type": "execute_result"
    }
   ],
   "source": [
    "items[0](-45)"
   ]
  },
  {
   "cell_type": "code",
   "execution_count": 50,
   "metadata": {},
   "outputs": [
    {
     "data": {
      "text/plain": [
       "1.4142135623730951"
      ]
     },
     "execution_count": 50,
     "metadata": {},
     "output_type": "execute_result"
    }
   ],
   "source": [
    "items[1].sqrt(2)"
   ]
  },
  {
   "cell_type": "markdown",
   "metadata": {},
   "source": [
    "\n",
    "Zarpado en loco! Podemos armar una lista de una funcion, un módulo y una excepción...<br>\n",
    "Pero como día Uncle Ben: '*Remember, with great power comes great responsibility.*'"
   ]
  },
  {
   "cell_type": "markdown",
   "metadata": {},
   "source": [
    "Qué se puede hacer con esto? Podríamos hacer una conversión de tipos de manera loca.\n",
    "<br>\n",
    "Por ejemplo, en nuestro caso del camión de frutas. Teníamos como columnas **nombre**: `string`, **cajones**: `int` y **precio**: `float`.\n",
    "<br>\n",
    "Podemos hacer algunos truquitos de magia"
   ]
  },
  {
   "cell_type": "markdown",
   "metadata": {},
   "source": [
    "Primero vamos a levantar el archivo y luego vamos a jugar un poco con él"
   ]
  },
  {
   "cell_type": "code",
   "execution_count": 54,
   "metadata": {
    "tags": []
   },
   "outputs": [
    {
     "name": "stdout",
     "output_type": "stream",
     "text": [
      "['Lima', '100', '32.2']\n",
      "[(<class 'str'>, 'Lima'), (<class 'int'>, '100'), (<class 'float'>, '32.2')]\n",
      "['Lima', 100, 32.2]\n"
     ]
    }
   ],
   "source": [
    "import csv\n",
    "nombre_archivo = '../Data/camion.csv'\n",
    "\n",
    "types = [str, int, float]\n",
    "\n",
    "with open(nombre_archivo, 'rt') as file:\n",
    "    filas = csv.reader(file)\n",
    "    headers = next(filas)\n",
    "    fila = next(filas)\n",
    "    fila_piola = list(zip(types, fila))\n",
    "# Acá vemos la fila común, todos strings\n",
    "print(fila)\n",
    "# Acá vemos (sin ser útil) que nos queda apareados los tipos y los datos\n",
    "print(fila_piola)\n",
    "\n",
    "### LO ÚTIL Y COPADO ###\n",
    "convertidos = []\n",
    "for func, val in zip(types, fila):\n",
    "    convertidos.append(func(val))\n",
    "print(convertidos)"
   ]
  },
  {
   "cell_type": "markdown",
   "metadata": {},
   "source": [
    "O mejor aún, si queremos usar comprensión de listas:"
   ]
  },
  {
   "cell_type": "code",
   "execution_count": 56,
   "metadata": {},
   "outputs": [
    {
     "data": {
      "text/plain": [
       "['Lima', 100, 32.2]"
      ]
     },
     "execution_count": 56,
     "metadata": {},
     "output_type": "execute_result"
    }
   ],
   "source": [
    "convertidos2 = [func(val) for func, val in zip(types, fila)]\n",
    "convertidos2"
   ]
  },
  {
   "cell_type": "markdown",
   "metadata": {},
   "source": [
    "**Hermoso**"
   ]
  },
  {
   "cell_type": "markdown",
   "metadata": {},
   "source": [
    "Y podemos ir un pasito más allá. Podemos armar un diccionario muy fácilmente ahora que tenemos las líneas bien identificadas con sus tipos (antes también podíamos pero había que convertirlas una a una para que quedara bien)"
   ]
  },
  {
   "cell_type": "code",
   "execution_count": 57,
   "metadata": {},
   "outputs": [
    {
     "data": {
      "text/plain": [
       "{'nombre': 'Lima', 'cajones': 100, 'precio': 32.2}"
      ]
     },
     "execution_count": 57,
     "metadata": {},
     "output_type": "execute_result"
    }
   ],
   "source": [
    "diccio = dict(zip(headers, convertidos2))\n",
    "diccio"
   ]
  },
  {
   "cell_type": "markdown",
   "metadata": {},
   "source": [
    "O, todo en una sola línea usando comprensión de diccio:"
   ]
  },
  {
   "cell_type": "code",
   "execution_count": 59,
   "metadata": {},
   "outputs": [
    {
     "data": {
      "text/plain": [
       "{'nombre': 'Lima', 'cajones': 100, 'precio': 32.2}"
      ]
     },
     "execution_count": 59,
     "metadata": {},
     "output_type": "execute_result"
    }
   ],
   "source": [
    "diccio1 = {nombre: func(val) for nombre, func, val in zip(headers, types, fila)}\n",
    "diccio1"
   ]
  },
  {
   "cell_type": "markdown",
   "metadata": {},
   "source": [
    "Vamos con un último ejemplo, que junta todo esto."
   ]
  },
  {
   "cell_type": "code",
   "execution_count": 62,
   "metadata": {
    "tags": []
   },
   "outputs": [
    {
     "name": "stdout",
     "output_type": "stream",
     "text": [
      "['name', 'price', 'date', 'time', 'change', 'open', 'high', 'low', 'volume']\n",
      "['AA', '39.48', '6/11/2007', '9:36am', '-0.18', '39.67', '39.69', '39.45', '181800']\n"
     ]
    }
   ],
   "source": [
    "nombre_archivo = '../Data/dowstocks.csv'\n",
    "with open(nombre_archivo, 'rt') as file:\n",
    "    filas = csv.reader(file)\n",
    "    headers = next(filas)\n",
    "    fila = next(filas)\n",
    "    print(headers)\n",
    "    print(fila)"
   ]
  },
  {
   "cell_type": "code",
   "execution_count": 65,
   "metadata": {},
   "outputs": [
    {
     "data": {
      "text/plain": [
       "['AA', 39.48, '6/11/2007', '9:36am', -0.18, 39.67, 39.69, 39.45, 181800]"
      ]
     },
     "execution_count": 65,
     "metadata": {},
     "output_type": "execute_result"
    }
   ],
   "source": [
    "types = [str, float, str, str, float, float, float, float, int]\n",
    "converted = [func(val) for func, val in zip(types, fila)]\n",
    "converted"
   ]
  },
  {
   "cell_type": "code",
   "execution_count": 66,
   "metadata": {},
   "outputs": [
    {
     "data": {
      "text/plain": [
       "{'name': 'AA',\n",
       " 'price': 39.48,\n",
       " 'date': '6/11/2007',\n",
       " 'time': '9:36am',\n",
       " 'change': -0.18,\n",
       " 'open': 39.67,\n",
       " 'high': 39.69,\n",
       " 'low': 39.45,\n",
       " 'volume': 181800}"
      ]
     },
     "execution_count": 66,
     "metadata": {},
     "output_type": "execute_result"
    }
   ],
   "source": [
    "record = dict(zip(headers, converted))\n",
    "record"
   ]
  },
  {
   "cell_type": "markdown",
   "metadata": {},
   "source": [
    "Muy piola! Y ahora, para armar una lista con todos los datos del archivo (lista de dict)"
   ]
  },
  {
   "cell_type": "code",
   "execution_count": 70,
   "metadata": {
    "tags": []
   },
   "outputs": [],
   "source": [
    "import csv\n",
    "from pprint import pprint as pp\n",
    "nombre_archivo = '../Data/dowstocks.csv'\n",
    "with open(nombre_archivo, 'rt') as file:\n",
    "    filas = csv.reader(file)\n",
    "    headers = next(filas)\n",
    "    types = [str, float, str, str, float, float, float, float, int]\n",
    "    lista = [{name: func(val) for name, func, val in zip(headers, types, fila)} for fila in filas]\n",
    "with open('archivo.txt', 'wt') as archivo_salida:\n",
    "    print(lista, file = archivo_salida)"
   ]
  },
  {
   "cell_type": "code",
   "execution_count": 72,
   "metadata": {},
   "outputs": [
    {
     "data": {
      "text/plain": [
       "[{'name': 'AA',\n",
       "  'price': 39.48,\n",
       "  'date': '6/11/2007',\n",
       "  'time': '9:36am',\n",
       "  'change': -0.18,\n",
       "  'open': 39.67,\n",
       "  'high': 39.69,\n",
       "  'low': 39.45,\n",
       "  'volume': 181800},\n",
       " {'name': 'AIG',\n",
       "  'price': 71.38,\n",
       "  'date': '6/11/2007',\n",
       "  'time': '9:36am',\n",
       "  'change': -0.15,\n",
       "  'open': 71.29,\n",
       "  'high': 71.6,\n",
       "  'low': 71.15,\n",
       "  'volume': 195500},\n",
       " {'name': 'AXP',\n",
       "  'price': 62.58,\n",
       "  'date': '6/11/2007',\n",
       "  'time': '9:36am',\n",
       "  'change': -0.46,\n",
       "  'open': 62.79,\n",
       "  'high': 63.0,\n",
       "  'low': 62.57,\n",
       "  'volume': 935000},\n",
       " {'name': 'BA',\n",
       "  'price': 98.31,\n",
       "  'date': '6/11/2007',\n",
       "  'time': '9:36am',\n",
       "  'change': 0.12,\n",
       "  'open': 98.25,\n",
       "  'high': 98.58,\n",
       "  'low': 98.19,\n",
       "  'volume': 104800},\n",
       " {'name': 'C',\n",
       "  'price': 53.08,\n",
       "  'date': '6/11/2007',\n",
       "  'time': '9:36am',\n",
       "  'change': -0.25,\n",
       "  'open': 53.2,\n",
       "  'high': 53.25,\n",
       "  'low': 53.03,\n",
       "  'volume': 360900}]"
      ]
     },
     "execution_count": 72,
     "metadata": {},
     "output_type": "execute_result"
    }
   ],
   "source": [
    "lista[0:5]"
   ]
  },
  {
   "cell_type": "code",
   "execution_count": 78,
   "metadata": {
    "tags": []
   },
   "outputs": [
    {
     "name": "stdout",
     "output_type": "stream",
     "text": [
      "2340\n",
      "30\n",
      "['AA', 'AIG', 'AXP', 'BA', 'C', 'CAT', 'DD', 'DIS', 'GE', 'GM', 'HD', 'HON', 'HPQ', 'IBM', 'INTC', 'JNJ', 'JPM', 'KO', 'MCD', 'MMM', 'MO', 'MRK', 'MSFT', 'PFE', 'PG', 'T', 'UTX', 'VZ', 'WMT', 'XOM']\n"
     ]
    }
   ],
   "source": [
    "nombres = [dato['name'] for dato in lista]\n",
    "print(len(nombres))\n",
    "print(len(set(nombres)))\n",
    "print(sorted(set(nombres)))"
   ]
  }
 ],
 "metadata": {
  "kernelspec": {
   "display_name": "Python 3.8.5 64-bit",
   "language": "python",
   "name": "python38564bitd039cb132626430baf307fd5ffddc8c9"
  },
  "language_info": {
   "codemirror_mode": {
    "name": "ipython",
    "version": 3
   },
   "file_extension": ".py",
   "mimetype": "text/x-python",
   "name": "python",
   "nbconvert_exporter": "python",
   "pygments_lexer": "ipython3",
   "version": "3.8.5"
  }
 },
 "nbformat": 4,
 "nbformat_minor": 2
}
