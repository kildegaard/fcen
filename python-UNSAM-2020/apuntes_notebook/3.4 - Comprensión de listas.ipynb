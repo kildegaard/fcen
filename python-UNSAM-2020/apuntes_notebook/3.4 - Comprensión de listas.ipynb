{
 "metadata": {
  "language_info": {
   "codemirror_mode": {
    "name": "ipython",
    "version": 3
   },
   "file_extension": ".py",
   "mimetype": "text/x-python",
   "name": "python",
   "nbconvert_exporter": "python",
   "pygments_lexer": "ipython3",
   "version": "3.8.3-final"
  },
  "orig_nbformat": 2,
  "kernelspec": {
   "name": "python_defaultSpec_1598411564594",
   "display_name": "Python 3.8.3 32-bit"
  }
 },
 "nbformat": 4,
 "nbformat_minor": 2,
 "cells": [
  {
   "cell_type": "markdown",
   "metadata": {},
   "source": [
    "<h1>Comprensión de listas</h1>"
   ]
  },
  {
   "cell_type": "markdown",
   "metadata": {},
   "source": [
    "Sintaxis básica:\n",
    "`[<expresion> for <variable> in <secuencia> if <condicion>]`"
   ]
  },
  {
   "cell_type": "code",
   "execution_count": 3,
   "metadata": {},
   "outputs": [
    {
     "output_type": "execute_result",
     "data": {
      "text/plain": "[2, 4, 6, 8, 10]"
     },
     "metadata": {},
     "execution_count": 3
    }
   ],
   "source": [
    "a = [1, 2, 3, 4, 5]\n",
    "b = [2*x for x in a]\n",
    "b"
   ]
  },
  {
   "cell_type": "markdown",
   "metadata": {},
   "source": [
    "Los list comprehension pueden ser empleados como *filtros*"
   ]
  },
  {
   "cell_type": "code",
   "execution_count": 4,
   "metadata": {},
   "outputs": [
    {
     "output_type": "execute_result",
     "data": {
      "text/plain": "[2, 8, 4, 20]"
     },
     "metadata": {},
     "execution_count": 4
    }
   ],
   "source": [
    "a = [1, -5, 4, 2, -2, 10]\n",
    "b = [2*x for x in a if x > 0]\n",
    "b"
   ]
  },
  {
   "cell_type": "markdown",
   "metadata": {},
   "source": [
    "Los **list comprehension** son muy poderosos. Podés, por ejemplo, recolectar los valores de un campo específico de un diccionario."
   ]
  },
  {
   "cell_type": "code",
   "execution_count": 16,
   "metadata": {},
   "outputs": [
    {
     "output_type": "execute_result",
     "data": {
      "text/plain": "['Naranja', 'Mandarina', 'Pera', 'Naranja']"
     },
     "metadata": {},
     "execution_count": 16
    }
   ],
   "source": [
    "camion = [\n",
    "    {\n",
    "        'nombre': 'Naranja',\n",
    "        'cajones': 150,\n",
    "        'precio': 490.1\n",
    "    },\n",
    "    {\n",
    "        'nombre': 'Mandarina',\n",
    "        'cajones': 100,\n",
    "        'precio': 350.5\n",
    "    },\n",
    "    {\n",
    "        'nombre': 'Pera',\n",
    "        'cajones': 80,\n",
    "        'precio': 610.5\n",
    "    },\n",
    "    {\n",
    "        'nombre': 'Naranja',\n",
    "        'cajones': 250,\n",
    "        'precio': 340.3\n",
    "    }\n",
    "\n",
    "]\n",
    "\n",
    "nombre_frutas = [elemento['nombre'] for elemento in camion]\n",
    "nombre_frutas"
   ]
  },
  {
   "cell_type": "markdown",
   "metadata": {},
   "source": [
    "O se pueden hacer **queries** (consultas) como si se tratara de una base de datos:"
   ]
  },
  {
   "cell_type": "code",
   "execution_count": 17,
   "metadata": {},
   "outputs": [
    {
     "output_type": "execute_result",
     "data": {
      "text/plain": "['Naranja']"
     },
     "metadata": {},
     "execution_count": 17
    }
   ],
   "source": [
    "a = [fruta['nombre'] for fruta in camion if fruta['cajones'] > 85 and fruta['precio'] > 400]\n",
    "a"
   ]
  },
  {
   "cell_type": "markdown",
   "metadata": {},
   "source": [
    "También se puede combinar con reducciones de secuencias:"
   ]
  },
  {
   "cell_type": "code",
   "execution_count": 18,
   "metadata": {},
   "outputs": [
    {
     "output_type": "execute_result",
     "data": {
      "text/plain": "242480.0"
     },
     "metadata": {},
     "execution_count": 18
    }
   ],
   "source": [
    "costo = sum([frutas['precio']*frutas['cajones'] for frutas in camion])\n",
    "costo"
   ]
  },
  {
   "cell_type": "markdown",
   "metadata": {},
   "source": [
    "El código análogo a un list comprehension es el siguiente:"
   ]
  },
  {
   "cell_type": "code",
   "execution_count": null,
   "metadata": {},
   "outputs": [],
   "source": [
    "resultado = []\n",
    "for variable in secuencia:\n",
    "    if condición:\n",
    "        resultado.append(expresión)"
   ]
  },
  {
   "cell_type": "markdown",
   "metadata": {},
   "source": [
    "Y una analogía con la matemática:<br>\n",
    "`a = [ x * x for x in s if x > 0 ] # Python`\n",
    "<br>\n",
    "`a = { x^2 | x ∈ s, x > 0 }        # Matemática`"
   ]
  },
  {
   "cell_type": "markdown",
   "metadata": {},
   "source": [
    "Podemos construir una lista de tuplas utilizando list comprehension"
   ]
  },
  {
   "cell_type": "code",
   "execution_count": 20,
   "metadata": {},
   "outputs": [
    {
     "output_type": "execute_result",
     "data": {
      "text/plain": "[('Naranja', 150), ('Mandarina', 100), ('Pera', 80), ('Naranja', 250)]"
     },
     "metadata": {},
     "execution_count": 20
    }
   ],
   "source": [
    "nombre_cajones = [(fruta['nombre'], fruta['cajones']) for fruta in camion]\n",
    "nombre_cajones"
   ]
  },
  {
   "cell_type": "markdown",
   "metadata": {},
   "source": [
    "Se cambiamos los corchetes por llaves se obtiene lo que se conoce como **comprensión de conjuntos** (set comprehension). De esta manera, se van a obtener valores únicos"
   ]
  },
  {
   "cell_type": "code",
   "execution_count": 25,
   "metadata": {
    "tags": []
   },
   "outputs": [
    {
     "output_type": "stream",
     "name": "stdout",
     "text": "['Naranja', 'Mandarina', 'Pera', 'Naranja'] <class 'list'>\n"
    }
   ],
   "source": [
    "nombres = [fruta['nombre'] for fruta in camion]\n",
    "print(nombres, type(nombres))"
   ]
  },
  {
   "cell_type": "code",
   "execution_count": 26,
   "metadata": {
    "tags": []
   },
   "outputs": [
    {
     "output_type": "stream",
     "name": "stdout",
     "text": "{'Pera', 'Naranja', 'Mandarina'} <class 'set'>\n"
    }
   ],
   "source": [
    "nombres = {fruta['nombre'] for fruta in camion}\n",
    "print(nombres, type(nombres))"
   ]
  },
  {
   "cell_type": "markdown",
   "metadata": {},
   "source": [
    "Si se especifica pares `key:value` se puede construir un diccionario **(Comprensión de diccionario)**"
   ]
  },
  {
   "cell_type": "code",
   "execution_count": 36,
   "metadata": {},
   "outputs": [
    {
     "output_type": "execute_result",
     "data": {
      "text/plain": "{'Pera': 0, 'Naranja': 0, 'Mandarina': 0}"
     },
     "metadata": {},
     "execution_count": 36
    }
   ],
   "source": [
    "stock = {nombre: 0 for nombre in nombres}\n",
    "stock"
   ]
  },
  {
   "cell_type": "code",
   "execution_count": 37,
   "metadata": {
    "tags": []
   },
   "outputs": [],
   "source": [
    "for fruta in camion:\n",
    "    stock[fruta['nombre']] += fruta['cajones']"
   ]
  },
  {
   "cell_type": "code",
   "execution_count": 38,
   "metadata": {},
   "outputs": [
    {
     "output_type": "execute_result",
     "data": {
      "text/plain": "{'Pera': 80, 'Naranja': 400, 'Mandarina': 100}"
     },
     "metadata": {},
     "execution_count": 38
    }
   ],
   "source": [
    "stock"
   ]
  },
  {
   "cell_type": "markdown",
   "metadata": {},
   "source": [
    "Ejercicio 3.14: Extraer datos de una arhcivo CSV\n",
    "\n",
    "Saber usar combinaciones de comprensión de listas, diccionarios y conjuntos resulta útil para procesar datos en diferentes contextos. Aunque puede volverse medio críptico si no estás habituade. Acá te mostramos un ejemplo de cómo extraer columnas seleccionadas de un archivo CSV que tiene esas características. No es dificil cuando lo entendés, pero está muy concentrado todo.\n",
    "\n",
    "Primero, leamos el encabezado (header) del archivo CSV:\n",
    "\n",
    ">>> import csv\n",
    ">>> f = open('Data/fecha_camion.csv')\n",
    ">>> rows = csv.reader(f)\n",
    ">>> headers = next(rows)\n",
    ">>> headers\n",
    "['nombre', 'fecha', 'hora', 'cajones', 'precio']\n",
    ">>>\n",
    "\n",
    "Luego, definamos una lista que tenga las columnas que nos importan:\n",
    "\n",
    ">>> select = ['nombre', 'cajones', 'precio']\n",
    ">>>\n",
    "\n",
    "Ubiquemos los índices de esas columnas en el CSV:\n",
    "\n",
    ">>> indices = [ headers.index(ncolumna) for ncolumna in select ]\n",
    ">>> indices\n",
    "[0, 3, 4]\n",
    ">>>\n",
    "\n",
    "Y finalmente leamos los datos y armemos un diccionario usando comprensión de diccionarios:\n",
    "\n",
    ">>> row = next(rows)\n",
    ">>> record = { ncolumna: row[index] for ncolumna, index in zip(select, indices) }   # comprensión de diccionario\n",
    ">>> record\n",
    "{'precio': '32.20', 'nombre': 'Lima', 'cajones': '100'}\n",
    ">>>\n",
    "\n",
    "No es trivial este comando. El comando es sintácticamente muy compacto, pero es conceptualmente (un poco) complejo. Cuando te sientas cómode con esta lectura de una línea del archivo (si no pasa, tranca, podemos seguir sin esto), leé el resto:\n",
    "\n",
    ">>> camion = [ { ncolumna: row[index] for ncolumna, index in zip(select, indices) } for row in rows ]\n",
    ">>> camion\n",
    "[{'cajones': '50', 'nombre': 'Naranja', 'precio': '91.1'},\n",
    " {'cajones': '150', 'nombre': 'Caqui', 'precio': '103.44'},\n",
    " {'cajones': '200', 'nombre': 'Mandarina', 'precio': '51.23'},\n",
    " {'cajones': '95', 'nombre': 'Durazno', 'precio': '40.37'},\n",
    " {'cajones': '50', 'nombre': 'Mandarina', 'precio': '65.1'},\n",
    " {'cajones': '100', 'nombre': 'Naranja', 'precio': '70.44'}]\n",
    ">>>\n",
    "\n",
    "¡Por las barbas de mi abuelo! Acabamos de reducir casi toda la función leer_camion() a un solo comando.\n",
    "Comentario\n",
    "\n",
    "La comprensión de listas se usa frecuentemente Python. Es una forma eficiente de transformar, filtrar o juntar datos. Tiene una sintaxis potente pero tratá de no pasarte con su uso: mantené cada comando tan simple como sea posible. Está perfecto descomponer un solo comando complejo en muchos pasos. Concretamente: compartir el último ejemplo con personas desprevenidas puede no ser lo ideal.\n",
    "\n",
    "Dicho esto, saber manipular datos rápidamente es una habilidad increíblemente útil. Hay numerosas situaciones donde puede que tengas que resolver algún tipo de problema excepcional (en el sentido de raro o único) para importar, extraer o exportar datos. La comprensión de listas te puede ahorrar muchísimo tiempo en esas tareas."
   ]
  },
  {
   "cell_type": "code",
   "execution_count": null,
   "metadata": {},
   "outputs": [],
   "source": [
    "camion_pre"
   ]
  }
 ]
}