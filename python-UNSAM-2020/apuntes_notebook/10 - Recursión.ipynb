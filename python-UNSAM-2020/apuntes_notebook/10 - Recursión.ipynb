{
 "cells": [
  {
   "cell_type": "markdown",
   "metadata": {},
   "source": [
    "# Introducción a la recursión"
   ]
  },
  {
   "cell_type": "markdown",
   "metadata": {},
   "source": [
    "La idea es directa, *funciones que se llaman a sí mismas*.\n",
    "\n",
    "Hay situaciones en las que son convenientes y otras en las que mejor ni pensar en usarlo. La realidad es que agrega elegancia al programa xd"
   ]
  },
  {
   "cell_type": "markdown",
   "metadata": {},
   "source": [
    "***"
   ]
  },
  {
   "cell_type": "markdown",
   "metadata": {},
   "source": [
    "## El caso más emblemático: el factorial"
   ]
  },
  {
   "cell_type": "raw",
   "metadata": {},
   "source": [
    "1! = 1\n",
    "n! = n * (n-1)! si n > 1"
   ]
  },
  {
   "cell_type": "markdown",
   "metadata": {},
   "source": [
    "De esta forma podemos aplicar la recursión a calcular el resultado de la función. En código (y muy enchetizado por mí):"
   ]
  },
  {
   "cell_type": "code",
   "execution_count": 1,
   "metadata": {},
   "outputs": [],
   "source": [
    "def factorial(n: int, str_tab: str = '', debug=False) -> int:\n",
    "    \"\"\"\n",
    "    Función factorial\n",
    "\n",
    "    Args:\n",
    "        n (int): valor a ser calculado\n",
    "        str_tab (str, optional): tabulador. Defaults to ''.\n",
    "        debug (bool, optional): para ver resultados intermedios. Defaults to False.\n",
    "\n",
    "    Raises:\n",
    "        ValueError: n no debe ser negativo\n",
    "\n",
    "    Returns:\n",
    "        int: factorial de n\n",
    "    \"\"\"\n",
    "    if 0 <= n <= 1:\n",
    "        if debug:\n",
    "            print(f'{str_tab} Llegué al caso base. n={n}')\n",
    "        res = 1\n",
    "    elif n > 1:\n",
    "        if debug:\n",
    "            print(f'{str_tab} Me meto un nivel. n={n}')\n",
    "        f = factorial(n - 1, str_tab + '\\t', debug)\n",
    "        res = n * f\n",
    "        if debug:\n",
    "            print(f'{str_tab} Empiezo a volver. [[ n = {n} | res = {n} * {f} ]]')\n",
    "    else:\n",
    "        raise ValueError('n no puede ser negativo')\n",
    "    return res"
   ]
  },
  {
   "cell_type": "code",
   "execution_count": 2,
   "metadata": {},
   "outputs": [
    {
     "data": {
      "text/plain": [
       "120"
      ]
     },
     "execution_count": 2,
     "metadata": {},
     "output_type": "execute_result"
    }
   ],
   "source": [
    "factorial(5)"
   ]
  },
  {
   "cell_type": "code",
   "execution_count": 3,
   "metadata": {},
   "outputs": [
    {
     "name": "stdout",
     "output_type": "stream",
     "text": [
      " Me meto un nivel. n=5\n",
      "\t Me meto un nivel. n=4\n",
      "\t\t Me meto un nivel. n=3\n",
      "\t\t\t Me meto un nivel. n=2\n",
      "\t\t\t\t Llegué al caso base. n=1\n",
      "\t\t\t Empiezo a volver. [[ n = 2 | res = 2 * 1 ]]\n",
      "\t\t Empiezo a volver. [[ n = 3 | res = 3 * 2 ]]\n",
      "\t Empiezo a volver. [[ n = 4 | res = 4 * 6 ]]\n",
      " Empiezo a volver. [[ n = 5 | res = 5 * 24 ]]\n"
     ]
    },
    {
     "data": {
      "text/plain": [
       "120"
      ]
     },
     "execution_count": 3,
     "metadata": {},
     "output_type": "execute_result"
    }
   ],
   "source": [
    "factorial(5, debug=True)"
   ]
  },
  {
   "cell_type": "markdown",
   "metadata": {},
   "source": [
    "Como vemos, la función se llama a sí misma decrementando el valor de **n** hasta que llega al ***caso base*** que es para el cual **CONOCE EL RESULTADO**.\n",
    "\n",
    "Las funciones \"factorial(n)\" se stackean hasta llegar al caso base, luego comienzan a poder volver mediante su return!"
   ]
  },
  {
   "cell_type": "markdown",
   "metadata": {},
   "source": [
    "***"
   ]
  },
  {
   "cell_type": "markdown",
   "metadata": {},
   "source": [
    "Ideas más importantes:\n",
    "- Definir un caso base, con resultado\n",
    "- Definir el paso recursivo\n",
    "- Tener en claro las precondiciones (ej: no tomar números negativos)"
   ]
  },
  {
   "cell_type": "markdown",
   "metadata": {},
   "source": [
    "## Recursión o iteración"
   ]
  },
  {
   "cell_type": "markdown",
   "metadata": {},
   "source": [
    "Llamaremos *algoritmos recursivos* a aquellos que realizan llamadas recursivas para llegar al resultado, y *algoritmos iterativos* a aquellos que llegan a un resultado a través de una iteración mediante un ciclo definido o indefinido.\n",
    "\n",
    "Todo algoritmo recursivo puede expresarse como iterativo y viceversa. Sin embargo, según las condiciones del problema a resolver podrá ser preferible utilizar la solución recursiva o la iterativa."
   ]
  },
  {
   "cell_type": "markdown",
   "metadata": {},
   "source": [
    "Ejemplo del factorial en formato iterativo:"
   ]
  },
  {
   "cell_type": "code",
   "execution_count": 4,
   "metadata": {},
   "outputs": [],
   "source": [
    "def factorial(n):\n",
    "    \"\"\"Precondición: n entero positivo\n",
    "       Devuelve: n!\"\"\"\n",
    "    fact = 1\n",
    "    for num in range(n, 1, -1):\n",
    "        fact *= num\n",
    "    return fact"
   ]
  },
  {
   "cell_type": "code",
   "execution_count": 5,
   "metadata": {},
   "outputs": [
    {
     "data": {
      "text/plain": [
       "120"
      ]
     },
     "execution_count": 5,
     "metadata": {},
     "output_type": "execute_result"
    }
   ],
   "source": [
    "factorial(5)"
   ]
  },
  {
   "cell_type": "markdown",
   "metadata": {},
   "source": [
    "Diferencias:\n",
    "\n",
    "|-|Recursión|Iteración|\n",
    "|:-:|:-:|:-:|\n",
    "|Caso base|Necesario|-|\n",
    "|Acumulador|-|Necesario|\n",
    "|Consumo memoria|Alto|Bajo|\n",
    "|Elegancia|Alta|Meh|"
   ]
  },
  {
   "cell_type": "markdown",
   "metadata": {},
   "source": [
    "## Diseño de algoritmos recursivos"
   ]
  },
  {
   "cell_type": "markdown",
   "metadata": {},
   "source": [
    "Hasta el momento vimos que hay muchas funciones matemáticas que se definen o que pueden desarrollarse de forma recursiva, pero puede aplicarse recursividad a muchos problemas que no sean explicitamente recursivos. Diseñar un algoritmo recursivo es un proceso sistematizable.\n",
    "\n",
    "En general, en el proceso para plantear un algoritmo recursivo, necesitamos resolver estos tres problemas:\n",
    "\n",
    "- **Caso base:** Necesitamos definir uno o más casos base de acuerdo a nuestro problema. Como regla general tratamos de pensar como caso base a las condiciones sobre las cuales es más fácil resolver nuestro problema. Por ejemplo, si estruviéramos trabajando sobre listas o cadenas probablemente sepamos la respuesta a nuestro problema en el caso de una secuencia vacía; si estuviéramos trabajando sobre conjuntos de elementos probablemente la respuesta sea evidente para los conjuntos de un solo elemento.\n",
    "- **Caso recursivo o caso general:** Este es el caso que va a efectuar la llamada recursiva. La idea de este caso es reducir el problema a un problema más sencillo, del cual se hará cargo la llamada recursiva, y luego poder ensamblar la solución al problema original. Ampliaremos esto más adelante.\n",
    "- **Convergencia:** Necesitamos que la reducción que se haga en el caso recursivo converja hacia los casos base, de modo que la recursión alguna vez termine. Esto es, si dijimos que el caso base se resolvía cuando teníamos una lista vacía, las operaciones del caso recursivo tienen que reducir reiteradamente la lista hasta que la misma quede vacía.\n"
   ]
  },
  {
   "cell_type": "markdown",
   "metadata": {},
   "source": [
    "#### Primer diseño recursivo"
   ]
  },
  {
   "cell_type": "code",
   "execution_count": 11,
   "metadata": {},
   "outputs": [],
   "source": [
    "def sumar(lista):\n",
    "    if len(lista)==0:\n",
    "        res = 0\n",
    "    else:\n",
    "        res = lista[0] + sumar(lista[1:])\n",
    "    return res"
   ]
  },
  {
   "cell_type": "code",
   "execution_count": 12,
   "metadata": {},
   "outputs": [],
   "source": [
    "def sumar2(lista):\n",
    "    if len(lista)==0:\n",
    "        res = 0\n",
    "    else:\n",
    "        res = lista.pop() + sumar2(lista)\n",
    "    return res"
   ]
  },
  {
   "cell_type": "code",
   "execution_count": 16,
   "metadata": {},
   "outputs": [],
   "source": [
    "lista=[1, 2, 3, 4, 5, 6, 7, 8, 9, 10]"
   ]
  },
  {
   "cell_type": "code",
   "execution_count": 18,
   "metadata": {},
   "outputs": [
    {
     "name": "stdout",
     "output_type": "stream",
     "text": [
      "55 55\n"
     ]
    }
   ],
   "source": [
    "a = sumar(lista)\n",
    "b = sumar2(lista)\n",
    "print(a, b)"
   ]
  },
  {
   "cell_type": "markdown",
   "metadata": {},
   "source": [
    "## Recursión de cola"
   ]
  },
  {
   "cell_type": "markdown",
   "metadata": {},
   "source": [
    "Dentro de los problemas recursivos no siempre es inmediato establecer cómo se va a propagar la información entre las llamadas recursivas. Es decir, cómo va a interactuar la solución de el o los subproblemas en la solución del problema general.\n",
    "\n",
    "En todos los ejemplos presentados hasta el momento la información del resultado se propagó desde las hojas del árbol de llamadas (los casos base) hacia las funciones invocantes (mediante la instrucción return). Por ejemplo, para resolver el resultado de Fibonacci F(5) se utilizan únicamente los resultados computados por F(4) y F(3), y no se recibe ningún dato adicional de la función invocante (más allá del parámetro n=5). Esto no siempre es así, en algunos problemas sí se hace necesario propagar información \"hacia abajo\". Y en otros casos, si bien no es necesario, puede tener ventajas adicionales.\n",
    "\n",
    "Por ejemplo, podríamos reescribir la función `sumar()` de esta forma:"
   ]
  },
  {
   "cell_type": "markdown",
   "metadata": {},
   "source": [
    "```python\n",
    "def sumar(lista, suma = 0):\n",
    "    \"\"\"Devuelve la suma de los elementos en la lista.\"\"\"\n",
    "    res = suma\n",
    "    if len(lista) != 0:\n",
    "        res = sumar(lista[1:], lista[0] + suma)\n",
    "    return res\n",
    "```"
   ]
  },
  {
   "cell_type": "markdown",
   "metadata": {},
   "source": [
    "Puede observarse que en esta implementación en vez de *esperar* a que se resuelva el cómputo de la parte recursiva para ensamblar la solución e ir resolviendo los cálculos parciales **desde el final de la lista hacia el principio**, le pasamos la solución parcial a la llamada recursiva. Finalmente el caso base devuelve la suma de los cálculos que se realizaron de principio a final y cada llamada recursiva devuelve este resultado."
   ]
  },
  {
   "cell_type": "markdown",
   "metadata": {},
   "source": [
    "No profundizaremos más en el tema, pero la particularidad de que lo último que se realice en el caso general sea la llamada recursiva (sin realizar ninguna operación adicional sobre el resultado de esta llamada) se conoce como **recursividad de cola**. La recursividad de cola es de interés porque *implica muy poco esfuerzo* reescribir una versión iterativa y no recursiva del algoritmo. \n",
    "\n",
    "Esto es inmediato: como lo último que se hace es la llamada recursiva entonces no hace falta seguir recordando el contexto de la llamada anterior cuando se hace la siguiente, entonces no es necesario utilizar la pila de ejecución. El código anterior puede reescribirse como"
   ]
  },
  {
   "cell_type": "markdown",
   "metadata": {},
   "source": [
    "```python\n",
    "def sumar(lista):\n",
    "    \"\"\"Devuelve la suma de los elementos en la lista.\"\"\"\n",
    "    suma = 0\n",
    "    while lista:\n",
    "        lista, suma = lista[1:], lista[0] + suma\n",
    "    return suma\n",
    "```"
   ]
  },
  {
   "cell_type": "markdown",
   "metadata": {},
   "source": [
    "tan solo reemplazando la recursión por un bucle y actualizando las variables según los parámetros de la llamada recursiva."
   ]
  },
  {
   "cell_type": "markdown",
   "metadata": {},
   "source": [
    "## Modificación de la firma"
   ]
  },
  {
   "cell_type": "markdown",
   "metadata": {},
   "source": [
    "La *firma* de una función es su nombre, más los parámetros que recibe, más los valores que devuelve. Para invocar una función cualquiera, es suficiente con saber cómo es su firma, y no es necesario saber cómo es la implementación interna. Ahora bien, si cambiamos la lista de parámetros o el tipo de dato del valor de retorno de la función, estamos cambiando su firma, y eso nos obliga a cambiar cualquier lugar del código que contenga alguna llamada a la función."
   ]
  },
  {
   "cell_type": "markdown",
   "metadata": {},
   "source": [
    "En el ejemplo de `sumar` implementada con recursividad de cola nos vimos obligados a modificar la firma de la función agregando el parámetro `suma` que no formaba parte del problema inicial. Pudimos hacerlo elegantemente utilizando un valor por omisión (`suma=0`), pero la firma de todos modos quedó confusa."
   ]
  },
  {
   "cell_type": "markdown",
   "metadata": {},
   "source": [
    "Hay casos en los que no podemos salvar un cambio en la firma. Por ejemplo, supongamos que queremos diseñar una función recursiva que calcule el promedio de una secuencia de números.\n",
    "\n",
    "Como ya sabemos diseñar funciones recursivas, intuimos que el caso base será cuando la lista esté vacía y que la reduciremos sacando de a un elemento por vez. El cuerpo de nuestra función será algo así:"
   ]
  },
  {
   "cell_type": "markdown",
   "metadata": {},
   "source": [
    "```python\n",
    "def promediar(lista):\n",
    "    if len(lista) == 1:\n",
    "        res = lista[0]\n",
    "    else:\n",
    "        res = promediar(lista[1:]) ???\n",
    "    return res\n",
    "```"
   ]
  },
  {
   "cell_type": "markdown",
   "metadata": {},
   "source": [
    "Ahora bien, con esto no alcanza para resolver el problema.\n",
    "\n",
    "Para calcular un promedio necesitamos tanto calcular la suma como contar la cantidad de elementos. Entonces, una implementación recursiva va a estar computando dos valores cuando el resultado del problema es evidentemente uno solo. Si bien puede elaborarse una solución similar a la que ya ensayamos con `sumar` complicaría innecesariamente el código. Es preferible modificar la firma de la función.\n",
    "\n",
    "Implementemos el problema resolviendo primero la llamada recursiva (en una función diferente que llamaremos `promediar_aux()`) y luego ensamblando:"
   ]
  },
  {
   "cell_type": "markdown",
   "metadata": {},
   "source": [
    "```python\n",
    "def promediar_aux(lista):\n",
    "    suma = lista[0]\n",
    "    cantidad = 1    \n",
    "    if len(lista) > 1:\n",
    "        suma_resto, cantidad_resto = promediar_aux(lista[1:])\n",
    "        suma += suma_resto\n",
    "        cantidad += cantidad_resto\n",
    "    return suma, cantidad\n",
    "```"
   ]
  },
  {
   "cell_type": "markdown",
   "metadata": {},
   "source": [
    "Puede verse que esta función cumple con las reglas de diseño de recursividad que describimos antes. Con lo que no cumple esta función es con la firma natural de la función `promediar()` que queríamos diseñar, ya que `promediar_aux()` devuelve dos cosas y no una.\n",
    "\n",
    "Esto no invalida nuestra solución, pero la misma está incompleta. Lo que debemos hacer es implementar una **función wrapper (envoltorio)** que lo que haga es operar como cara visible para el usuario de la función que hace realmente el trabajo. A esta función sí la vamos a llamar `promediar`, ya que va a cumplir con la firma deseada:"
   ]
  },
  {
   "cell_type": "markdown",
   "metadata": {},
   "source": [
    "```python\n",
    "\n",
    "\n",
    "def promediar(lista):\n",
    "    \"\"\"Devuelve el promedio de los elementos de una lista de números.\"\"\"\n",
    "\n",
    "    def promediar_aux(lista):\n",
    "        suma = lista[0]\n",
    "        cantidad = 1    \n",
    "        if len(lista) > 1:\n",
    "            suma_resto, cantidad_resto = promediar_aux(lista[1:])\n",
    "            suma += suma_resto\n",
    "            cantidad += cantidad_resto\n",
    "        return suma, cantidad\n",
    "\n",
    "    suma, cantidad = promediar_aux(lista)\n",
    "    return suma / cantidad\n",
    "```"
   ]
  },
  {
   "cell_type": "markdown",
   "metadata": {},
   "source": [
    "Notar que si bien la función visible `promediar` no es recursiva, sí lo es la función `promediar_aux` que es la que realiza el trabajo, por lo que el conjunto se considera recursivo. Observá que estamos definiendo la función `promediar_aux` dentro de la función `promediar` de manera que no resulte visible desde afuera (no la podés llamar desde afuera, así como hay variables locales ésta es una función local).\n",
    "\n",
    "Además de para adaptar la firma de la función recursiva, las funciones *wrapper* se suelen utilizar para simplificar el código de las funciones recursivas. Por ejemplo, si quisiéramos hacer validaciones de los parámetros, no querríamos que las mismas se reiteraran en cada iteración recursiva porque consumirían recursos innecesarios. Entonces las podemos resolver en la función wrapper, antes de empezar la recursión."
   ]
  },
  {
   "cell_type": "markdown",
   "metadata": {},
   "source": [
    "### Resumen recursión"
   ]
  },
  {
   "cell_type": "markdown",
   "metadata": {},
   "source": [
    "\n",
    "- A medida que se realizan llamadas a funciones, el estado de cada función se almacena en la pila de ejecución.\n",
    "- Esto permite que sea posible que una función se llame a sí misma, pero que las variables dentro de la función tomen distintos valores.\n",
    "- La recursión es el proceso en el cual una función se invoca a sí misma. Este proceso permite crear un nuevo tipo de ciclos.\n",
    "- Siempre que se escribe una función recursiva es importante considerar el caso base (el que detendrá la recursión) y el caso recursivo (el que realizará la llamada recursiva). Una función recursiva sin caso base es equivalente a un bucle infinito.\n",
    "- Una función no es mejor ni peor por ser recursiva. En cada situación a resolver puede ser conveniente utilizar una solución recursiva o una iterativa. Para elegir una o la otra será necesario analizar las características de elegancia y eficiencia.\n",
    "- Al diseñar funciones recursivas muchas veces puede ser útil implementar una función wrapper, por ejemplo para adaptar la firma de la función, validar parámetros, inicializar datos o manejar excepciones."
   ]
  }
 ],
 "metadata": {
  "kernelspec": {
   "display_name": "Python 3.8.5 64-bit",
   "language": "python",
   "name": "python38564bitd039cb132626430baf307fd5ffddc8c9"
  },
  "language_info": {
   "codemirror_mode": {
    "name": "ipython",
    "version": 3
   },
   "file_extension": ".py",
   "mimetype": "text/x-python",
   "name": "python",
   "nbconvert_exporter": "python",
   "pygments_lexer": "ipython3",
   "version": "3.8.5"
  }
 },
 "nbformat": 4,
 "nbformat_minor": 4
}
