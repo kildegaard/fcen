{
 "cells": [
  {
   "cell_type": "markdown",
   "metadata": {},
   "source": [
    "# NumPy"
   ]
  },
  {
   "cell_type": "markdown",
   "metadata": {},
   "source": [
    "Ya sabemos bastantes cosas de esta librería, pero vamos a recordar algunas y, más que nada, hacer un compendio de sus métodos más piolas."
   ]
  },
  {
   "cell_type": "code",
   "execution_count": 1,
   "metadata": {},
   "outputs": [],
   "source": [
    "import numpy as np"
   ]
  },
  {
   "cell_type": "markdown",
   "metadata": {},
   "source": [
    "***"
   ]
  },
  {
   "cell_type": "markdown",
   "metadata": {},
   "source": [
    "Entre estas líneas voy a garabatear algunas cosas típicas de dudas."
   ]
  },
  {
   "cell_type": "code",
   "execution_count": 11,
   "metadata": {},
   "outputs": [
    {
     "data": {
      "text/plain": [
       "array([[1, 2, 3]])"
      ]
     },
     "execution_count": 11,
     "metadata": {},
     "output_type": "execute_result"
    }
   ],
   "source": [
    "array1 = np.array([[1, 2, 3]])\n",
    "array1"
   ]
  },
  {
   "cell_type": "code",
   "execution_count": 12,
   "metadata": {},
   "outputs": [
    {
     "data": {
      "text/plain": [
       "array([[1],\n",
       "       [2],\n",
       "       [3]])"
      ]
     },
     "execution_count": 12,
     "metadata": {},
     "output_type": "execute_result"
    }
   ],
   "source": [
    "array2 = np.array([[1], [2], [3]])\n",
    "array2"
   ]
  },
  {
   "cell_type": "code",
   "execution_count": 13,
   "metadata": {},
   "outputs": [
    {
     "data": {
      "text/plain": [
       "array([[ True, False, False],\n",
       "       [False,  True, False],\n",
       "       [False, False,  True]])"
      ]
     },
     "execution_count": 13,
     "metadata": {},
     "output_type": "execute_result"
    }
   ],
   "source": [
    "array1 == array2"
   ]
  },
  {
   "cell_type": "code",
   "execution_count": 14,
   "metadata": {},
   "outputs": [
    {
     "data": {
      "text/plain": [
       "False"
      ]
     },
     "execution_count": 14,
     "metadata": {},
     "output_type": "execute_result"
    }
   ],
   "source": [
    "array1 is array2"
   ]
  },
  {
   "cell_type": "code",
   "execution_count": 15,
   "metadata": {},
   "outputs": [
    {
     "data": {
      "text/plain": [
       "False"
      ]
     },
     "execution_count": 15,
     "metadata": {},
     "output_type": "execute_result"
    }
   ],
   "source": [
    "array1.T is array2"
   ]
  },
  {
   "cell_type": "code",
   "execution_count": 16,
   "metadata": {},
   "outputs": [
    {
     "data": {
      "text/plain": [
       "array([[1],\n",
       "       [2],\n",
       "       [3]])"
      ]
     },
     "execution_count": 16,
     "metadata": {},
     "output_type": "execute_result"
    }
   ],
   "source": [
    "array1.T"
   ]
  },
  {
   "cell_type": "code",
   "execution_count": 17,
   "metadata": {},
   "outputs": [
    {
     "data": {
      "text/plain": [
       "array([[ True],\n",
       "       [ True],\n",
       "       [ True]])"
      ]
     },
     "execution_count": 17,
     "metadata": {},
     "output_type": "execute_result"
    }
   ],
   "source": [
    "array1.T == array2"
   ]
  },
  {
   "cell_type": "code",
   "execution_count": 19,
   "metadata": {},
   "outputs": [
    {
     "name": "stdout",
     "output_type": "stream",
     "text": [
      "(3,)\n",
      "(1, 3)\n"
     ]
    }
   ],
   "source": [
    "array_a = np.array([1, 2, 3])\n",
    "array_b = np.array([[1, 2, 3]])\n",
    "print(array_a.shape)\n",
    "print(array_b.shape)"
   ]
  },
  {
   "cell_type": "markdown",
   "metadata": {},
   "source": [
    "***"
   ]
  },
  {
   "cell_type": "markdown",
   "metadata": {},
   "source": [
    "Vamos a hacer una pequeña listita con funciones copadas y útiles"
   ]
  },
  {
   "cell_type": "code",
   "execution_count": 24,
   "metadata": {},
   "outputs": [
    {
     "data": {
      "text/plain": [
       "array([[0., 0., 0.],\n",
       "       [0., 0., 0.]])"
      ]
     },
     "execution_count": 24,
     "metadata": {},
     "output_type": "execute_result"
    }
   ],
   "source": [
    "# Matriz llena de cero\n",
    "np.zeros([2, 3])"
   ]
  },
  {
   "cell_type": "code",
   "execution_count": 25,
   "metadata": {},
   "outputs": [
    {
     "data": {
      "text/plain": [
       "array([[1., 1.],\n",
       "       [1., 1.],\n",
       "       [1., 1.]])"
      ]
     },
     "execution_count": 25,
     "metadata": {},
     "output_type": "execute_result"
    }
   ],
   "source": [
    "# Matriz llena de 1\n",
    "np.ones([3, 2])"
   ]
  },
  {
   "cell_type": "code",
   "execution_count": 26,
   "metadata": {},
   "outputs": [
    {
     "data": {
      "text/plain": [
       "array([[1.06135352e-312, 0.00000000e+000, 1.06395697e+224],\n",
       "       [1.25909727e-075, 2.31805409e-056, 1.25585851e-075],\n",
       "       [1.90193486e+185, 4.29894906e-086, 6.27207943e-310]])"
      ]
     },
     "execution_count": 26,
     "metadata": {},
     "output_type": "execute_result"
    }
   ],
   "source": [
    "# Matriz con valores sin inicializar (útil por la velocidad)\n",
    "# Nota: hay que asegurarse de ponerle valores luego!\n",
    "np.empty([3, 3])"
   ]
  },
  {
   "cell_type": "code",
   "execution_count": 31,
   "metadata": {},
   "outputs": [
    {
     "data": {
      "text/plain": [
       "array([0, 1, 2, 3, 4])"
      ]
     },
     "execution_count": 31,
     "metadata": {},
     "output_type": "execute_result"
    }
   ],
   "source": [
    "# Array a partir de un rango de valores\n",
    "# Este array tiene elementos equiespaciados\n",
    "np.arange(5)"
   ]
  },
  {
   "cell_type": "code",
   "execution_count": 30,
   "metadata": {},
   "outputs": [
    {
     "data": {
      "text/plain": [
       "array([ 1,  4,  7, 10, 13, 16, 19])"
      ]
     },
     "execution_count": 30,
     "metadata": {},
     "output_type": "execute_result"
    }
   ],
   "source": [
    "# np.arange(start, stop, step)\n",
    "np.arange(1, 20, 3)"
   ]
  },
  {
   "cell_type": "code",
   "execution_count": 33,
   "metadata": {},
   "outputs": [
    {
     "data": {
      "text/plain": [
       "array([ 1.,  2.,  3.,  4.,  5.,  6.,  7.,  8.,  9., 10.])"
      ]
     },
     "execution_count": 33,
     "metadata": {},
     "output_type": "execute_result"
    }
   ],
   "source": [
    "# Array con elementos equiespaciados\n",
    "# Nota: acá se especifica en qué numero empieza y termina y la cant. de puntos\n",
    "np.linspace(1, 10, num = 10)"
   ]
  },
  {
   "cell_type": "code",
   "execution_count": 36,
   "metadata": {},
   "outputs": [
    {
     "data": {
      "text/plain": [
       "array([0.   , 0.125, 0.25 , 0.375, 0.5  , 0.625, 0.75 , 0.875, 1.   ])"
      ]
     },
     "execution_count": 36,
     "metadata": {},
     "output_type": "execute_result"
    }
   ],
   "source": [
    "np.linspace(0, 1, num = 9)"
   ]
  },
  {
   "cell_type": "markdown",
   "metadata": {},
   "source": [
    "Resumiendo lo anterior:<br>\n",
    " - np.zeros: matriz de 0's\n",
    " - np.ones: matriz de 1's\n",
    " - np.empty: matriz sin inicializar\n",
    " - np.arange: array equiespaciado (start, stop, step)\n",
    " - np.linspace: array equiespaciado (start, stop, nro_de_puntos)"
   ]
  },
  {
   "cell_type": "markdown",
   "metadata": {},
   "source": [
    "## Más comandos útiles"
   ]
  },
  {
   "cell_type": "markdown",
   "metadata": {},
   "source": [
    "Vamos a hacer como más arriba, un resumen rápido de las funciones."
   ]
  },
  {
   "cell_type": "markdown",
   "metadata": {},
   "source": [
    "<u>Agregar, borrar y ordenar elementos</u>\n",
    "\n",
    "- `np.sort(array)`: Ordena\n",
    "- `np.concatenate(array1, array2)`: une dos vectores\n",
    "    - Pueden unirse en el eje vertical: `axis = 0` (se apilan uno sobre el otro)\n",
    "    - Pueden unirse en el eje horizontal: `axis = 1` (se pegan cabeza con cola)\n",
    "\n",
    "<u>Conocer el tamaño, dimensiones y forma de un arreglo</u>\n",
    "- `ndarray.dim`: te dice la cantidad de dimensiones\n",
    "- `ndarray.shape`: te da la forma en forma de tupla\n",
    "- `ndarray.size`: te devuelve la cantidad de elementos (producto de la tupla)\n",
    "\n",
    "<u>Cambiar la forma de un arreglo</u>\n",
    "- `ndarray.reshape(valores)`: modifica la matriz o vector para que coincida con las nuevas dimensiones\n",
    "\n",
    "<u>Agregar un nuevo eje a un arreglo</u>\n",
    "- `array[np.newaxis, :]` o `array[np.newaxis, :]`: agrega dimensión extra para pasar de un vector a una matriz de (1, n) o (n, 1)\n",
    "<u>Índices y rebanadas</u>\n",
    "Igual que con las listas. Adicionalmente se pueden hacer *consultas*\n",
    "- `a[condicion para a]` -> devuelve un array con el resultado (**filtro**)\n",
    "- Para más de una condición se concatenan usando `&` y `|`\n",
    "- `np.nonzero(condicion)`: devuelve las coordenadas de los elementos alcanzados por la condición.\n",
    "    - devuelve tupla de arreglos, uno por cada dimensión.\n",
    "    - para armar lista de coord: `lista_coord = list(zip(b[0],b[1]))`"
   ]
  },
  {
   "cell_type": "markdown",
   "metadata": {},
   "source": [
    "Existe también el método `copy` para no pisar memoria como pasaba con las listas."
   ]
  },
  {
   "cell_type": "code",
   "execution_count": 37,
   "metadata": {},
   "outputs": [
    {
     "name": "stdout",
     "output_type": "stream",
     "text": [
      "[[100   2   3]\n",
      " [  4   5   6]]\n",
      "[[100   2   3]\n",
      " [  4   5   6]]\n"
     ]
    }
   ],
   "source": [
    "a = np.array([[1, 2, 3], [4, 5, 6]])\n",
    "b = a\n",
    "a[0][0] = 100\n",
    "print(a)\n",
    "print(b)"
   ]
  },
  {
   "cell_type": "code",
   "execution_count": 38,
   "metadata": {},
   "outputs": [
    {
     "name": "stdout",
     "output_type": "stream",
     "text": [
      "[[100   2   3]\n",
      " [  4   5   6]]\n",
      "[[1 2 3]\n",
      " [4 5 6]]\n"
     ]
    }
   ],
   "source": [
    "a = np.array([[1, 2, 3], [4, 5, 6]])\n",
    "b = a.copy()\n",
    "a[0][0] = 100\n",
    "print(a)\n",
    "print(b)"
   ]
  },
  {
   "cell_type": "markdown",
   "metadata": {},
   "source": [
    "También funcionan los `max, min, sum` de listas"
   ]
  },
  {
   "cell_type": "code",
   "execution_count": 50,
   "metadata": {},
   "outputs": [
    {
     "name": "stdout",
     "output_type": "stream",
     "text": [
      "15\n",
      "15\n",
      "15\n",
      "\n",
      "[5 7 9]\n",
      "[5 7 9]\n",
      "[ 6 15]\n"
     ]
    }
   ],
   "source": [
    "array1 = np.array([1, 2, 3, 4, 5])\n",
    "array3 = np.array([[1, 2, 3], [4, 5, 6]])\n",
    "print(sum(array1))\n",
    "print(array1.sum())\n",
    "print(array1.sum(axis = 0))\n",
    "print('')\n",
    "print(sum(array3))\n",
    "print(array3.sum(axis = 0))\n",
    "print(array3.sum(axis = 1))"
   ]
  },
  {
   "cell_type": "markdown",
   "metadata": {},
   "source": [
    "Vemos que la suma se realiza de acuerdo al eje que le digamos a `.sum()`"
   ]
  },
  {
   "cell_type": "markdown",
   "metadata": {},
   "source": [
    "##  Broadcasting"
   ]
  },
  {
   "cell_type": "code",
   "execution_count": 51,
   "metadata": {},
   "outputs": [
    {
     "data": {
      "text/plain": [
       "array([2, 2, 2])"
      ]
     },
     "execution_count": 51,
     "metadata": {},
     "output_type": "execute_result"
    }
   ],
   "source": [
    "array = np.array([1, 1, 1])\n",
    "array * 2"
   ]
  },
  {
   "cell_type": "code",
   "execution_count": 57,
   "metadata": {},
   "outputs": [
    {
     "data": {
      "text/plain": [
       "array([[ 4,  5,  4],\n",
       "       [ 8, 10,  8],\n",
       "       [12, 15, 12]])"
      ]
     },
     "execution_count": 57,
     "metadata": {},
     "output_type": "execute_result"
    }
   ],
   "source": [
    "array1 = np.array([[1, 1, 1], [2, 2, 2], [3, 3, 3]])\n",
    "array3 = np.array([4, 5, 4])\n",
    "array1 * array3"
   ]
  },
  {
   "cell_type": "markdown",
   "metadata": {},
   "source": [
    "Podemos ver en estos ejemplos que las multiplicaciones se dan coordenada a coordenada (1ro con 1ro, 2do con 2do, ...)"
   ]
  },
  {
   "cell_type": "markdown",
   "metadata": {},
   "source": [
    "Sumamos más funciones:\n",
    " - ndarray.max()\n",
    " - ndarray.min()\n",
    " - ndarray.mean()\n",
    " - ndarray.std()\n",
    " - ndarray.prod()"
   ]
  },
  {
   "cell_type": "code",
   "execution_count": 64,
   "metadata": {},
   "outputs": [
    {
     "name": "stdout",
     "output_type": "stream",
     "text": [
      "18\n",
      "[6 6 6]\n",
      "[3 6 9]\n"
     ]
    }
   ],
   "source": [
    "array1 = np.array([[1, 1, 1], [2, 2, 2], [3, 3, 3]])\n",
    "print(array1.sum())\n",
    "print(array1.sum(axis = 0))\n",
    "print(array1.sum(axis = 1))"
   ]
  },
  {
   "cell_type": "markdown",
   "metadata": {},
   "source": [
    "## Guardar y cargas objetos de numpy"
   ]
  },
  {
   "cell_type": "markdown",
   "metadata": {},
   "source": [
    "Tenemos dos maneras de guardar nuestros objetos de numpy:\n",
    " - En formato texto (tanto `.txt` como `.csv`)\n",
    "     - `np.savetext('filename.txt', variable)`\n",
    "     - `foo = np.loadtext('filename.txt')`\n",
    " - En formato binario (`.npy`)\n",
    "     - `np.save('filename', variable)`\n",
    "     - `foo = np.load('filename.npy')`"
   ]
  }
 ],
 "metadata": {
  "kernelspec": {
   "display_name": "Python 3",
   "language": "python",
   "name": "python3"
  },
  "language_info": {
   "codemirror_mode": {
    "name": "ipython",
    "version": 3
   },
   "file_extension": ".py",
   "mimetype": "text/x-python",
   "name": "python",
   "nbconvert_exporter": "python",
   "pygments_lexer": "ipython3",
   "version": "3.8.3"
  }
 },
 "nbformat": 4,
 "nbformat_minor": 4
}
