{
 "cells": [
  {
   "cell_type": "markdown",
   "metadata": {},
   "source": [
    "# 2 - Manejo de Archivos"
   ]
  },
  {
   "cell_type": "markdown",
   "metadata": {},
   "source": [
    "Funciones mega básicas de archivos"
   ]
  },
  {
   "cell_type": "raw",
   "metadata": {},
   "source": [
    "f = open('archivo1.csv', 'rt')  # Sólo lectura\n",
    "g = open('archivo2.csv', 'wt')  # Sólo escritura\n",
    "\n",
    "# A veces es necesario aclarar el encoding para una correcta interpretación de los datos.\n",
    "h = open('archivo.csv, 'rt', encoding = 'utf8')\n",
    "\n",
    "data = f.read()  # Lee el archivo y lo mete en la variable data\n",
    "g.write('Holis') # Escribe a un archivo\n",
    "\n",
    "f.close() # Cierra el archivo\n"
   ]
  },
  {
   "cell_type": "markdown",
   "metadata": {},
   "source": [
    "Primero, averiguamos en qué directorio estamos parados"
   ]
  },
  {
   "cell_type": "code",
   "execution_count": 1,
   "metadata": {},
   "outputs": [
    {
     "data": {
      "text/plain": [
       "'D:\\\\gitLab\\\\pyunsam\\\\apuntes_notebook'"
      ]
     },
     "execution_count": 1,
     "metadata": {},
     "output_type": "execute_result"
    }
   ],
   "source": [
    "import os\n",
    "os.getcwd()"
   ]
  },
  {
   "cell_type": "code",
   "execution_count": 2,
   "metadata": {},
   "outputs": [],
   "source": [
    "archivo_entrada = '../Data/camion.csv'"
   ]
  },
  {
   "cell_type": "markdown",
   "metadata": {},
   "source": [
    "## Leyendo archivos"
   ]
  },
  {
   "cell_type": "code",
   "execution_count": 4,
   "metadata": {},
   "outputs": [
    {
     "name": "stdout",
     "output_type": "stream",
     "text": [
      "nombre,cajones,precio\n",
      "Lima,100,32.2\n",
      "Naranja,50,91.1\n",
      "Caqui,150,103.44\n",
      "Mandarina,200,51.23\n",
      "Durazno,95,40.37\n",
      "Mandarina,50,65.1\n",
      "Naranja,100,70.44\n",
      "\n",
      "<class 'str'>\n"
     ]
    }
   ],
   "source": [
    "with open(archivo_entrada, 'rt') as file:\n",
    "    data = file.read()\n",
    "    \n",
    "print(data)\n",
    "print(type(data))"
   ]
  },
  {
   "cell_type": "markdown",
   "metadata": {},
   "source": [
    "Acá vemos que, al importar el archivo a la variable <b>data</b> se guarda como un string, y separa las lineas con \\n"
   ]
  },
  {
   "cell_type": "code",
   "execution_count": 4,
   "metadata": {},
   "outputs": [
    {
     "data": {
      "text/plain": [
       "'nombre,cajones,precio\\nLima,100,32.2\\nNaranja,50,91.1\\nCaqui,150,103.44\\nMandarina,200,51.23\\nDurazno,95,40.37\\nMandarina,50,65.1\\nNaranja,100,70.44\\n'"
      ]
     },
     "execution_count": 4,
     "metadata": {},
     "output_type": "execute_result"
    }
   ],
   "source": [
    "data"
   ]
  },
  {
   "cell_type": "markdown",
   "metadata": {},
   "source": [
    "Tenemos otra forma de abrir un archivo, y es <b>línea por línea</b>"
   ]
  },
  {
   "cell_type": "code",
   "execution_count": 9,
   "metadata": {
    "scrolled": true
   },
   "outputs": [
    {
     "name": "stdout",
     "output_type": "stream",
     "text": [
      "nombre,cajones,precio\n",
      "\n",
      "Lima,100,32.2\n",
      "\n",
      "Naranja,50,91.1\n",
      "\n",
      "Caqui,150,103.44\n",
      "\n",
      "Mandarina,200,51.23\n",
      "\n",
      "Durazno,95,40.37\n",
      "\n",
      "Mandarina,50,65.1\n",
      "\n",
      "Naranja,100,70.44\n",
      "\n"
     ]
    }
   ],
   "source": [
    "with open(archivo_entrada, 'rt') as file:\n",
    "    for line in file:\n",
    "        print(line)"
   ]
  },
  {
   "cell_type": "markdown",
   "metadata": {},
   "source": [
    "Acá estamos obteniendo en la variable ***line*** cada linea por separado. Para poder usarlas de manera rutinaria, habría que modificarlas un poco:\n",
    " - Hay que convertir a listas, para lo cual hay que separar cada elemento (**.split(',')**)\n",
    " - Hay que eliminar el \"\\n\" del final, que hace que se introduzcan lineas en blanco (**.strip()**)"
   ]
  },
  {
   "cell_type": "markdown",
   "metadata": {},
   "source": [
    "Hay un módulo llamado **csv** que facilita las cosas"
   ]
  },
  {
   "cell_type": "code",
   "execution_count": 17,
   "metadata": {
    "scrolled": true
   },
   "outputs": [
    {
     "name": "stdout",
     "output_type": "stream",
     "text": [
      "['nombre', 'cajones', 'precio']\n",
      "['Lima', '100', '32.2']\n",
      "['Naranja', '50', '91.1']\n",
      "['Caqui', '150', '103.44']\n",
      "['Mandarina', '200', '51.23']\n",
      "['Durazno', '95', '40.37']\n",
      "['Mandarina', '50', '65.1']\n",
      "['Naranja', '100', '70.44']\n"
     ]
    }
   ],
   "source": [
    "import csv\n",
    "with open(archivo_entrada, 'rt') as file:\n",
    "    data = csv.reader(file)\n",
    "    for line in data:\n",
    "        print(line)"
   ]
  },
  {
   "cell_type": "markdown",
   "metadata": {},
   "source": [
    "## Escribiendo archivos"
   ]
  },
  {
   "cell_type": "code",
   "execution_count": 10,
   "metadata": {},
   "outputs": [],
   "source": [
    "archivo_salida = 'Soy_un_archivo_de_salida.txt'"
   ]
  },
  {
   "cell_type": "code",
   "execution_count": 11,
   "metadata": {},
   "outputs": [],
   "source": [
    "with open(archivo_salida, 'wt') as file:\n",
    "    file.write('Hola mundo!')"
   ]
  },
  {
   "cell_type": "markdown",
   "metadata": {},
   "source": [
    "Otra forma: redirigiendo la salida del print"
   ]
  },
  {
   "cell_type": "code",
   "execution_count": 14,
   "metadata": {},
   "outputs": [],
   "source": [
    "with open(archivo_salida, 'wt') as archivo:\n",
    "    print('Holis!', file=archivo)"
   ]
  },
  {
   "cell_type": "markdown",
   "metadata": {},
   "source": [
    "Podemos ver que sobreescribí el mismo archivo!"
   ]
  },
  {
   "cell_type": "markdown",
   "metadata": {},
   "source": [
    "### Cosas que uno suele querer hacer en un archivo"
   ]
  },
  {
   "cell_type": "markdown",
   "metadata": {},
   "source": [
    "La primer línea suele ser de los nombres de las columnas, por lo cual queremos guardarla aparte:"
   ]
  },
  {
   "cell_type": "code",
   "execution_count": 26,
   "metadata": {},
   "outputs": [],
   "source": [
    "file = open(archivo_entrada,'rt')\n",
    "\n",
    "headers = next(file)\n",
    "data = []\n",
    "for linea in file:\n",
    "    data.append(linea)\n",
    "\n",
    "file.close()"
   ]
  },
  {
   "cell_type": "code",
   "execution_count": 27,
   "metadata": {},
   "outputs": [
    {
     "name": "stdout",
     "output_type": "stream",
     "text": [
      "nombre,cajones,precio\n",
      " <class 'str'>\n"
     ]
    }
   ],
   "source": [
    "print(headers,type(headers))"
   ]
  },
  {
   "cell_type": "markdown",
   "metadata": {},
   "source": [
    "Podemos ver que con la funcion next(ARCHIVO) avanzamos una línea y nos quedamos posicionados en el inicio de la siguiente."
   ]
  },
  {
   "cell_type": "markdown",
   "metadata": {},
   "source": [
    "<b>DATO COPADO:</b> Los ciclos FOR usan invisiblemente el next() para ir avanando las lineas"
   ]
  },
  {
   "cell_type": "markdown",
   "metadata": {},
   "source": [
    "En la variable <b>data</b> almacenamos el resto del archivo."
   ]
  },
  {
   "cell_type": "code",
   "execution_count": 35,
   "metadata": {},
   "outputs": [
    {
     "name": "stdout",
     "output_type": "stream",
     "text": [
      "['Lima,100,32.2\\n', 'Naranja,50,91.1\\n', 'Caqui,150,103.44\\n', 'Mandarina,200,51.23\\n', 'Durazno,95,40.37\\n', 'Mandarina,50,65.1\\n', 'Naranja,100,70.44\\n']\n"
     ]
    },
    {
     "data": {
      "text/plain": [
       "7"
      ]
     },
     "execution_count": 35,
     "metadata": {},
     "output_type": "execute_result"
    }
   ],
   "source": [
    "print(data)\n",
    "len(data)"
   ]
  },
  {
   "cell_type": "markdown",
   "metadata": {},
   "source": [
    "Podemos ver el primer valor de la lista"
   ]
  },
  {
   "cell_type": "code",
   "execution_count": 36,
   "metadata": {},
   "outputs": [
    {
     "data": {
      "text/plain": [
       "'Lima,100,32.2\\n'"
      ]
     },
     "execution_count": 36,
     "metadata": {},
     "output_type": "execute_result"
    }
   ],
   "source": [
    "data[0]"
   ]
  },
  {
   "cell_type": "markdown",
   "metadata": {},
   "source": [
    "Ahora queremos <b>SEPARAR</b>, dentro de cada línea, los distintos datos. Convertir ese string en una lista."
   ]
  },
  {
   "cell_type": "code",
   "execution_count": 34,
   "metadata": {},
   "outputs": [
    {
     "name": "stdout",
     "output_type": "stream",
     "text": [
      "['Lima', '100', '32.2\\n']\n",
      "['Naranja', '50', '91.1\\n']\n",
      "['Caqui', '150', '103.44\\n']\n",
      "['Mandarina', '200', '51.23\\n']\n",
      "['Durazno', '95', '40.37\\n']\n",
      "['Mandarina', '50', '65.1\\n']\n",
      "['Naranja', '100', '70.44\\n']\n"
     ]
    }
   ],
   "source": [
    "for linea in data:\n",
    "    fila = linea.split(',')\n",
    "    print(fila)"
   ]
  },
  {
   "cell_type": "code",
   "execution_count": 42,
   "metadata": {},
   "outputs": [
    {
     "name": "stdout",
     "output_type": "stream",
     "text": [
      "[['Lima', '100', '32.2\\n'], ['Naranja', '50', '91.1\\n'], ['Caqui', '150', '103.44\\n'], ['Mandarina', '200', '51.23\\n'], ['Durazno', '95', '40.37\\n'], ['Mandarina', '50', '65.1\\n'], ['Naranja', '100', '70.44\\n'], ['Lima', '100', '32.2\\n'], ['Naranja', '50', '91.1\\n'], ['Caqui', '150', '103.44\\n'], ['Mandarina', '200', '51.23\\n'], ['Durazno', '95', '40.37\\n'], ['Mandarina', '50', '65.1\\n'], ['Naranja', '100', '70.44\\n']]\n"
     ]
    }
   ],
   "source": [
    "baseDatosFea = []\n",
    "for linea in data:\n",
    "    baseDatos.append(linea.split(','))\n",
    "print(baseDatos)"
   ]
  },
  {
   "cell_type": "markdown",
   "metadata": {},
   "source": [
    "Ahora tenemos una <b>lista de listas</b>"
   ]
  },
  {
   "cell_type": "markdown",
   "metadata": {},
   "source": [
    "Podemos mejorarlo quitando ese \\n que se agrega naturalmente al final de cada línea con <b>.strip()</b>"
   ]
  },
  {
   "cell_type": "code",
   "execution_count": 43,
   "metadata": {
    "scrolled": true
   },
   "outputs": [
    {
     "name": "stdout",
     "output_type": "stream",
     "text": [
      "[['Lima', '100', '32.2'], ['Naranja', '50', '91.1'], ['Caqui', '150', '103.44'], ['Mandarina', '200', '51.23'], ['Durazno', '95', '40.37'], ['Mandarina', '50', '65.1'], ['Naranja', '100', '70.44']]\n"
     ]
    }
   ],
   "source": [
    "baseDatos = []\n",
    "for linea in data:\n",
    "    baseDatos.append(linea.strip().split(','))\n",
    "print(baseDatos)"
   ]
  },
  {
   "cell_type": "markdown",
   "metadata": {},
   "source": [
    "<b>| EJERCICIO 2.2 |</b> (en VS Code)"
   ]
  },
  {
   "cell_type": "markdown",
   "metadata": {},
   "source": [
    "También podemos abrir <u>archivos comprimidos</u>"
   ]
  },
  {
   "cell_type": "code",
   "execution_count": 45,
   "metadata": {},
   "outputs": [
    {
     "name": "stdout",
     "output_type": "stream",
     "text": [
      "nombre,cajones,precio\n",
      "Lima,100,32.2\n",
      "Naranja,50,91.1\n",
      "Caqui,150,103.44\n",
      "Mandarina,200,51.23\n",
      "Durazno,95,40.37\n",
      "Mandarina,50,65.1\n",
      "Naranja,100,70.44\n"
     ]
    }
   ],
   "source": [
    "import gzip\n",
    "\n",
    "archivo_entrada_gzip = '../Data/camion.csv.gz'\n",
    "\n",
    "with gzip.open(archivo_entrada_gzip,'rt') as file:\n",
    "    for linea in file:\n",
    "        print(linea, end='')"
   ]
  }
 ],
 "metadata": {
  "kernelspec": {
   "display_name": "Python 3",
   "language": "python",
   "name": "python3"
  },
  "language_info": {
   "codemirror_mode": {
    "name": "ipython",
    "version": 3
   },
   "file_extension": ".py",
   "mimetype": "text/x-python",
   "name": "python",
   "nbconvert_exporter": "python",
   "pygments_lexer": "ipython3",
   "version": "3.8.3"
  }
 },
 "nbformat": 4,
 "nbformat_minor": 4
}
