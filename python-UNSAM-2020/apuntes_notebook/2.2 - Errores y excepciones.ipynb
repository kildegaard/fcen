{
 "cells": [
  {
   "cell_type": "markdown",
   "metadata": {},
   "source": [
    "# Errores y excepciones"
   ]
  },
  {
   "cell_type": "code",
   "execution_count": 6,
   "metadata": {},
   "outputs": [
    {
     "name": "stdout",
     "output_type": "stream",
     "text": [
      "Ingresá un número entero: Alberto\n",
      "No es válido. Intentá de nuevo.\n",
      "Ingresá un número entero: 12.5\n",
      "No es válido. Intentá de nuevo.\n",
      "Ingresá un número entero: 12,5\n",
      "No es válido. Intentá de nuevo.\n",
      "Ingresá un número entero: 12\n",
      "Ingresaste el número 12\n"
     ]
    }
   ],
   "source": [
    "numero_valido = False\n",
    "while not numero_valido:\n",
    "    try:\n",
    "        a = input('Ingresá un número entero: ')\n",
    "        n = int(a)\n",
    "        numero_valido = True\n",
    "    except:\n",
    "        print('No es válido. Intentá de nuevo.')\n",
    "print(f'Ingresaste el número {n}')"
   ]
  },
  {
   "cell_type": "markdown",
   "metadata": {},
   "source": [
    "También se puede especificar la excepción en particular:"
   ]
  },
  {
   "cell_type": "code",
   "execution_count": 7,
   "metadata": {},
   "outputs": [
    {
     "name": "stdout",
     "output_type": "stream",
     "text": [
      "Ingresá un número entero: Albert\n",
      "No es válido. Intentá de nuevo.\n",
      "Ingresá un número entero: 12\n",
      "Ingresaste el número 12\n"
     ]
    }
   ],
   "source": [
    "numero_valido = False\n",
    "while not numero_valido:\n",
    "    try:\n",
    "        a = input('Ingresá un número entero: ')\n",
    "        n = int(a)\n",
    "        numero_valido = True\n",
    "    except ValueError:\n",
    "        print('No es válido. Intentá de nuevo.')\n",
    "print(f'Ingresaste el número {n}')"
   ]
  },
  {
   "cell_type": "markdown",
   "metadata": {},
   "source": [
    "Finalmente, se pueden <b>generar excepciones</b>:"
   ]
  },
  {
   "cell_type": "code",
   "execution_count": 8,
   "metadata": {},
   "outputs": [
    {
     "ename": "RuntimeError",
     "evalue": "WTF",
     "output_type": "error",
     "traceback": [
      "\u001b[1;31m---------------------------------------------------------------------------\u001b[0m",
      "\u001b[1;31mRuntimeError\u001b[0m                              Traceback (most recent call last)",
      "\u001b[1;32m<ipython-input-8-8c29a8433eb0>\u001b[0m in \u001b[0;36m<module>\u001b[1;34m\u001b[0m\n\u001b[1;32m----> 1\u001b[1;33m \u001b[1;32mraise\u001b[0m \u001b[0mRuntimeError\u001b[0m\u001b[1;33m(\u001b[0m\u001b[1;34m'WTF'\u001b[0m\u001b[1;33m)\u001b[0m\u001b[1;33m\u001b[0m\u001b[1;33m\u001b[0m\u001b[0m\n\u001b[0m",
      "\u001b[1;31mRuntimeError\u001b[0m: WTF"
     ]
    }
   ],
   "source": [
    "raise RuntimeError('WTF')"
   ]
  }
 ],
 "metadata": {
  "kernelspec": {
   "display_name": "Python 3",
   "language": "python",
   "name": "python3"
  },
  "language_info": {
   "codemirror_mode": {
    "name": "ipython",
    "version": 3
   },
   "file_extension": ".py",
   "mimetype": "text/x-python",
   "name": "python",
   "nbconvert_exporter": "python",
   "pygments_lexer": "ipython3",
   "version": "3.8.3"
  }
 },
 "nbformat": 4,
 "nbformat_minor": 4
}
