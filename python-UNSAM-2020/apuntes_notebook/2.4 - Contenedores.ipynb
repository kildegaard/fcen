{
 "cells": [
  {
   "cell_type": "markdown",
   "metadata": {},
   "source": [
    "# Contenedores"
   ]
  },
  {
   "cell_type": "markdown",
   "metadata": {},
   "source": [
    "Tres tipos de contenedores:\n",
    " - Listas: datos ordenados.\n",
    " - Diccionarios: datos desordenados.\n",
    " - Conjuntos: datos desordenados <b>ÚNICOS</b>"
   ]
  },
  {
   "cell_type": "markdown",
   "metadata": {},
   "source": [
    "## Listas como contenedores"
   ]
  },
  {
   "cell_type": "markdown",
   "metadata": {},
   "source": [
    "Las listas como contenedores son útiles cuando importa el orden."
   ]
  },
  {
   "cell_type": "markdown",
   "metadata": {},
   "source": [
    "Para armar un registro utilizando listas, desde un archivo, podemos hacer lo siguiente:"
   ]
  },
  {
   "cell_type": "code",
   "execution_count": 5,
   "metadata": {},
   "outputs": [],
   "source": [
    "registro = []\n",
    "\n",
    "with open('../Data/camion.csv', 'rt') as file:\n",
    "    next(file)\n",
    "    for line in file:\n",
    "        row = line.strip().split(',')\n",
    "        registro.append((row[0], int(row[1]), float(row[2])))"
   ]
  },
  {
   "cell_type": "code",
   "execution_count": 6,
   "metadata": {},
   "outputs": [
    {
     "data": {
      "text/plain": [
       "[('Lima', 100, 32.2),\n",
       " ('Naranja', 50, 91.1),\n",
       " ('Caqui', 150, 103.44),\n",
       " ('Mandarina', 200, 51.23),\n",
       " ('Durazno', 95, 40.37),\n",
       " ('Mandarina', 50, 65.1),\n",
       " ('Naranja', 100, 70.44)]"
      ]
     },
     "execution_count": 6,
     "metadata": {},
     "output_type": "execute_result"
    }
   ],
   "source": [
    "registro"
   ]
  },
  {
   "cell_type": "code",
   "execution_count": 7,
   "metadata": {},
   "outputs": [
    {
     "name": "stdout",
     "output_type": "stream",
     "text": [
      "<class 'list'> <class 'tuple'> <class 'str'>\n"
     ]
    }
   ],
   "source": [
    "print(type(registro),type(registro[0]), type(registro[0][0]))"
   ]
  },
  {
   "cell_type": "markdown",
   "metadata": {},
   "source": [
    "## Diccionario como contenedores"
   ]
  },
  {
   "cell_type": "markdown",
   "metadata": {},
   "source": [
    "Los diccionarios son útiles si vamos a querer buscar rápidamente (por claves). Por ejemplo, un diccionario de precios de cajones."
   ]
  },
  {
   "cell_type": "code",
   "execution_count": 8,
   "metadata": {},
   "outputs": [],
   "source": [
    "precios = {\n",
    "   'Pera': 513.25,\n",
    "   'Limon': 87.22,\n",
    "   'Naranja': 93.37,\n",
    "   'Mandarina': 44.12\n",
    "}"
   ]
  },
  {
   "cell_type": "code",
   "execution_count": 9,
   "metadata": {},
   "outputs": [
    {
     "data": {
      "text/plain": [
       "93.37"
      ]
     },
     "execution_count": 9,
     "metadata": {},
     "output_type": "execute_result"
    }
   ],
   "source": [
    "precios['Naranja']"
   ]
  },
  {
   "cell_type": "markdown",
   "metadata": {},
   "source": [
    "Tenemos varias formas de construir nuestros diccionarios."
   ]
  },
  {
   "cell_type": "code",
   "execution_count": 10,
   "metadata": {},
   "outputs": [],
   "source": [
    "precios = {} # Empezamos con un diccionario vacío\n",
    "\n",
    "# Agregamos elementos\n",
    "precios['Pera'] = 513.25\n",
    "precios['Limon'] = 87.22\n",
    "precios['Naranja'] = 93.37"
   ]
  },
  {
   "cell_type": "markdown",
   "metadata": {},
   "source": [
    "Un ejemplo de cómo armar un diccionario a partir del contenido de un archivo."
   ]
  },
  {
   "cell_type": "code",
   "execution_count": 11,
   "metadata": {},
   "outputs": [
    {
     "name": "stdout",
     "output_type": "stream",
     "text": [
      "Hay alguna línea vacía!\n"
     ]
    },
    {
     "data": {
      "text/plain": [
       "{'Lima': 40.22,\n",
       " 'Uva': 24.85,\n",
       " 'Ciruela': 44.85,\n",
       " 'Cereza': 11.27,\n",
       " 'Frutilla': 53.72,\n",
       " 'Caqui': 105.46,\n",
       " 'Tomate': 66.67,\n",
       " 'Berenjena': 28.47,\n",
       " 'Lechuga': 24.22,\n",
       " 'Durazno': 73.48,\n",
       " 'Remolacha': 20.75,\n",
       " 'Habas': 23.16,\n",
       " 'Frambuesa': 34.35,\n",
       " 'Naranja': 106.28,\n",
       " 'Bruselas': 15.72,\n",
       " 'Batata': 55.16,\n",
       " 'RÃºcula': 36.9,\n",
       " 'Radicheta': 26.11,\n",
       " 'Repollo': 49.16,\n",
       " 'Cebolla': 58.99,\n",
       " 'CebollÃ\\xadn': 57.1,\n",
       " 'Puerro': 27.58,\n",
       " 'Mandarina': 80.89,\n",
       " 'Ajo': 15.19,\n",
       " 'Rabanito': 51.94,\n",
       " 'Zapallo': 24.79,\n",
       " 'Espinaca': 52.61,\n",
       " 'Acelga': 29.26,\n",
       " 'Zanahoria': 49.74,\n",
       " 'Papa': 69.35}"
      ]
     },
     "execution_count": 11,
     "metadata": {},
     "output_type": "execute_result"
    }
   ],
   "source": [
    "precios = {}  # Empezamos con un diccionario vacío\n",
    "\n",
    "with open('../Data/precios.csv', 'rt') as f:\n",
    "    for line in f:\n",
    "        try:\n",
    "            row = line.split(',')\n",
    "            precios[row[0]] = float(row[1])\n",
    "        except:\n",
    "            print('Hay alguna línea vacía!')\n",
    "precios"
   ]
  },
  {
   "cell_type": "markdown",
   "metadata": {},
   "source": [
    "Búsquedas en diccionario"
   ]
  },
  {
   "cell_type": "code",
   "execution_count": 12,
   "metadata": {},
   "outputs": [
    {
     "name": "stdout",
     "output_type": "stream",
     "text": [
      "esa llave está en el diccio\n"
     ]
    }
   ],
   "source": [
    "key = 'Tomate'\n",
    "if key in precios:\n",
    "    print('esa llave está en el diccio')\n",
    "else:\n",
    "    print('no ta che')"
   ]
  },
  {
   "cell_type": "markdown",
   "metadata": {},
   "source": [
    "Se pueden armar **claves compuestas**"
   ]
  },
  {
   "cell_type": "code",
   "execution_count": 13,
   "metadata": {},
   "outputs": [],
   "source": [
    "feriados = {\n",
    "    (1, 1) : 'Año nuevo',\n",
    "    (1, 5) : 'Día del trabajador',\n",
    "    (13, 9): 'Día del programador'\n",
    "}"
   ]
  },
  {
   "cell_type": "code",
   "execution_count": 14,
   "metadata": {},
   "outputs": [
    {
     "data": {
      "text/plain": [
       "{(1, 1): 'Año nuevo',\n",
       " (1, 5): 'Día del trabajador',\n",
       " (13, 9): 'Día del programador'}"
      ]
     },
     "execution_count": 14,
     "metadata": {},
     "output_type": "execute_result"
    }
   ],
   "source": [
    "feriados"
   ]
  },
  {
   "cell_type": "code",
   "execution_count": 15,
   "metadata": {},
   "outputs": [
    {
     "data": {
      "text/plain": [
       "'Día del trabajador'"
      ]
     },
     "execution_count": 15,
     "metadata": {},
     "output_type": "execute_result"
    }
   ],
   "source": [
    "feriados[(1, 5)]"
   ]
  },
  {
   "cell_type": "markdown",
   "metadata": {},
   "source": [
    "###  * Conjuntos ( o SETs )"
   ]
  },
  {
   "cell_type": "markdown",
   "metadata": {},
   "source": [
    "Un conjunto es una colección de elementos únicos sin orden y sin repetición."
   ]
  },
  {
   "cell_type": "code",
   "execution_count": 16,
   "metadata": {},
   "outputs": [],
   "source": [
    "citricos = {'Naranja', 'Limon', 'Mandarina', 'Pera'}"
   ]
  },
  {
   "cell_type": "code",
   "execution_count": 17,
   "metadata": {},
   "outputs": [
    {
     "data": {
      "text/plain": [
       "{'Limon', 'Mandarina', 'Naranja', 'Pera'}"
      ]
     },
     "execution_count": 17,
     "metadata": {},
     "output_type": "execute_result"
    }
   ],
   "source": [
    "citricos"
   ]
  },
  {
   "cell_type": "markdown",
   "metadata": {},
   "source": [
    "También se puede creear un set a partir de una lista"
   ]
  },
  {
   "cell_type": "code",
   "execution_count": 18,
   "metadata": {},
   "outputs": [],
   "source": [
    "citricos = set(['Naranja', 'Limon', 'Mandarina'])"
   ]
  },
  {
   "cell_type": "code",
   "execution_count": 19,
   "metadata": {},
   "outputs": [
    {
     "data": {
      "text/plain": [
       "{'Limon', 'Mandarina', 'Naranja'}"
      ]
     },
     "execution_count": 19,
     "metadata": {},
     "output_type": "execute_result"
    }
   ],
   "source": [
    "citricos"
   ]
  },
  {
   "cell_type": "markdown",
   "metadata": {},
   "source": [
    "Cosas para las cuales los sets están buenas:\n",
    " - Evaluar pertenencia\n",
    " - Eliminar duplicados"
   ]
  },
  {
   "cell_type": "code",
   "execution_count": 20,
   "metadata": {},
   "outputs": [
    {
     "data": {
      "text/plain": [
       "True"
      ]
     },
     "execution_count": 20,
     "metadata": {},
     "output_type": "execute_result"
    }
   ],
   "source": [
    "'Naranja' in citricos"
   ]
  },
  {
   "cell_type": "code",
   "execution_count": 21,
   "metadata": {},
   "outputs": [
    {
     "data": {
      "text/plain": [
       "True"
      ]
     },
     "execution_count": 21,
     "metadata": {},
     "output_type": "execute_result"
    }
   ],
   "source": [
    "'Banana' not in citricos"
   ]
  },
  {
   "cell_type": "code",
   "execution_count": 22,
   "metadata": {},
   "outputs": [],
   "source": [
    "citricos = set(['Naranja', 'Limon', 'Mandarina', 'Pera', 'Naranja', 'Limon'])"
   ]
  },
  {
   "cell_type": "code",
   "execution_count": 23,
   "metadata": {},
   "outputs": [
    {
     "data": {
      "text/plain": [
       "{'Limon', 'Mandarina', 'Naranja', 'Pera'}"
      ]
     },
     "execution_count": 23,
     "metadata": {},
     "output_type": "execute_result"
    }
   ],
   "source": [
    "citricos"
   ]
  },
  {
   "cell_type": "code",
   "execution_count": 24,
   "metadata": {},
   "outputs": [
    {
     "data": {
      "text/plain": [
       "{'Banana', 'Limon', 'Mandarina', 'Naranja'}"
      ]
     },
     "execution_count": 24,
     "metadata": {},
     "output_type": "execute_result"
    }
   ],
   "source": [
    "# Agregar un elemento a un set\n",
    "citricos.add('Banana')\n",
    "\n",
    "# Eliminar un elemento de un set\n",
    "citricos.remove('Pera')\n",
    "\n",
    "citricos"
   ]
  },
  {
   "cell_type": "markdown",
   "metadata": {},
   "source": [
    "Otras operaciones"
   ]
  },
  {
   "cell_type": "code",
   "execution_count": 25,
   "metadata": {},
   "outputs": [
    {
     "name": "stdout",
     "output_type": "stream",
     "text": [
      "{3, 4, 5} {1, 2, 3, 4, 5, 6, 7, 8} {1, 2}\n"
     ]
    }
   ],
   "source": [
    "c1 = {1, 2, 3, 4, 5}\n",
    "c2 = {3, 4, 5, 6, 7, 8}\n",
    "print(c1 & c2, c1 | c2, c1 - c2)"
   ]
  },
  {
   "cell_type": "markdown",
   "metadata": {},
   "source": [
    " - El & es para intersección de conjuntos\n",
    " - El | es para la unión de conjuntos\n",
    " - La resta es la resta entre ellos. Al primero le resta el segundo (quita del primer conjunto todos aquellos elementos que también están en el segundo)"
   ]
  },
  {
   "cell_type": "code",
   "execution_count": 27,
   "metadata": {},
   "outputs": [
    {
     "data": {
      "text/plain": [
       "4"
      ]
     },
     "execution_count": 27,
     "metadata": {},
     "output_type": "execute_result"
    }
   ],
   "source": [
    "len(citricos)"
   ]
  },
  {
   "cell_type": "code",
   "execution_count": null,
   "metadata": {},
   "outputs": [],
   "source": []
  }
 ],
 "metadata": {
  "kernelspec": {
   "display_name": "Python 3",
   "language": "python",
   "name": "python3"
  },
  "language_info": {
   "codemirror_mode": {
    "name": "ipython",
    "version": 3
   },
   "file_extension": ".py",
   "mimetype": "text/x-python",
   "name": "python",
   "nbconvert_exporter": "python",
   "pygments_lexer": "ipython3",
   "version": "3.8.3"
  }
 },
 "nbformat": 4,
 "nbformat_minor": 4
}
