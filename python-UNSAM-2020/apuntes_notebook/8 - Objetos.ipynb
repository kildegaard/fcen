{
 "cells": [
  {
   "cell_type": "markdown",
   "metadata": {},
   "source": [
    "# Programación Orientada a Objetos"
   ]
  },
  {
   "cell_type": "markdown",
   "metadata": {},
   "source": [
    "Vamos a armar miniapunte a la velocidad de la luz de la unidad 8"
   ]
  },
  {
   "cell_type": "code",
   "execution_count": 1,
   "metadata": {},
   "outputs": [],
   "source": [
    "# Formato general\n",
    "\n",
    "class Jugador:\n",
    "    \"\"\"Clase de jugador\"\"\"\n",
    "    \n",
    "    def __init__(self, x, y):\n",
    "        \"\"\"Este es el constructor\"\"\"\n",
    "        self.x = x\n",
    "        self.y = y\n",
    "        self.salud = 100\n",
    "        \n",
    "    def mover(self, dx, dy):\n",
    "        \"\"\"Esto es un método\"\"\"\n",
    "        self.x += dx\n",
    "        self.y += dy\n",
    "        \n",
    "    def lastimar(self, pts):\n",
    "        \"\"\"Otro método\"\"\"\n",
    "        self.salud -= pts"
   ]
  },
  {
   "cell_type": "code",
   "execution_count": 2,
   "metadata": {},
   "outputs": [
    {
     "name": "stdout",
     "output_type": "stream",
     "text": [
      "Gus está en (0;0)\n"
     ]
    }
   ],
   "source": [
    "gus = Jugador(0, 0)\n",
    "\n",
    "print(f'Gus está en ({gus.x};{gus.y})')"
   ]
  },
  {
   "cell_type": "code",
   "execution_count": 3,
   "metadata": {},
   "outputs": [
    {
     "name": "stdout",
     "output_type": "stream",
     "text": [
      "Gus está en (10;5)\n"
     ]
    }
   ],
   "source": [
    "gus.mover(10, 5)\n",
    "print(f'Gus está en ({gus.x};{gus.y})')"
   ]
  },
  {
   "cell_type": "markdown",
   "metadata": {},
   "source": [
    "Los métodos pueden llamar a otros métodos así:"
   ]
  },
  {
   "cell_type": "code",
   "execution_count": 9,
   "metadata": {},
   "outputs": [],
   "source": [
    "class Jugador:\n",
    "    \"\"\"Clase de jugador\"\"\"\n",
    "    \n",
    "    def __init__(self, x, y):\n",
    "        \"\"\"Este es el constructor\"\"\"\n",
    "        self.x = x\n",
    "        self.y = y\n",
    "        self.salud = 100\n",
    "        \n",
    "    def mover(self, dx, dy):\n",
    "        \"\"\"Esto es un método\"\"\"\n",
    "        self.x += dx\n",
    "        self.y += dy\n",
    "        \n",
    "    def lastimar(self, pts):\n",
    "        \"\"\"Otro método\"\"\"\n",
    "        self.salud -= pts\n",
    "        \n",
    "    def izquierda(self, dist):\n",
    "        self.mover(-dist, 0)"
   ]
  },
  {
   "cell_type": "code",
   "execution_count": 10,
   "metadata": {},
   "outputs": [
    {
     "name": "stdout",
     "output_type": "stream",
     "text": [
      "-5 0\n"
     ]
    }
   ],
   "source": [
    "gus = Jugador(0, 0)\n",
    "gus.izquierda(5)\n",
    "print(gus.x, gus.y)"
   ]
  },
  {
   "cell_type": "markdown",
   "metadata": {},
   "source": [
    "## Herencia"
   ]
  },
  {
   "cell_type": "markdown",
   "metadata": {},
   "source": [
    "Como en Java, las clases hijo heredan las características de la clase padre.\n",
    "La idea es:\n",
    "\n",
    "- Agregarle métodos\n",
    "- Redifinir métodos existentes\n",
    "- Agregar nuevos atributos"
   ]
  },
  {
   "cell_type": "code",
   "execution_count": 32,
   "metadata": {},
   "outputs": [],
   "source": [
    "# Ejemplo. Tengo esta clase padre que quiero ampliar elsewhere\n",
    "\n",
    "class Lote:\n",
    "    def __init__(self, nombre, cajones, precio):\n",
    "        self.nombre = nombre\n",
    "        self.cajones = cajones\n",
    "        self.precio = precio\n",
    "\n",
    "    def costo(self):\n",
    "        return self.cajones * self.precio\n",
    "\n",
    "    def vender(self, ncajones):\n",
    "        self.cajones -= ncajones\n",
    "        \n",
    "# Me creo una clase hija que HEREDA de esta\n",
    "\n",
    "class MiLote(Lote):\n",
    "    def rematar(self):\n",
    "        self.vender(self.cajones)"
   ]
  },
  {
   "cell_type": "markdown",
   "metadata": {},
   "source": [
    "Y entonces puedo hacer cosas tipo:"
   ]
  },
  {
   "cell_type": "code",
   "execution_count": 33,
   "metadata": {},
   "outputs": [
    {
     "data": {
      "text/plain": [
       "49010.0"
      ]
     },
     "execution_count": 33,
     "metadata": {},
     "output_type": "execute_result"
    }
   ],
   "source": [
    "c = MiLote('Pera', 100, 490.1)\n",
    "c.costo()"
   ]
  },
  {
   "cell_type": "code",
   "execution_count": 34,
   "metadata": {},
   "outputs": [
    {
     "data": {
      "text/plain": [
       "75"
      ]
     },
     "execution_count": 34,
     "metadata": {},
     "output_type": "execute_result"
    }
   ],
   "source": [
    "c.vender(25)\n",
    "c.cajones"
   ]
  },
  {
   "cell_type": "code",
   "execution_count": 35,
   "metadata": {},
   "outputs": [],
   "source": [
    "c.rematar()"
   ]
  },
  {
   "cell_type": "code",
   "execution_count": 36,
   "metadata": {},
   "outputs": [
    {
     "data": {
      "text/plain": [
       "0"
      ]
     },
     "execution_count": 36,
     "metadata": {},
     "output_type": "execute_result"
    }
   ],
   "source": [
    "c.cajones"
   ]
  },
  {
   "cell_type": "markdown",
   "metadata": {},
   "source": [
    "### Redefinir un método existente"
   ]
  },
  {
   "cell_type": "markdown",
   "metadata": {},
   "source": [
    "Puedo hacer esto:"
   ]
  },
  {
   "cell_type": "code",
   "execution_count": 37,
   "metadata": {},
   "outputs": [],
   "source": [
    "class MiLote(Lote):\n",
    "    def costo(self):\n",
    "        return 1.25 * self.cajones * self.precio"
   ]
  },
  {
   "cell_type": "code",
   "execution_count": 38,
   "metadata": {},
   "outputs": [
    {
     "data": {
      "text/plain": [
       "61262.5"
      ]
     },
     "execution_count": 38,
     "metadata": {},
     "output_type": "execute_result"
    }
   ],
   "source": [
    "c = MiLote('Pera', 100, 490.1)\n",
    "c.costo()"
   ]
  },
  {
   "cell_type": "markdown",
   "metadata": {},
   "source": [
    "### Utilizar un método de la versión padre para definir la versión hijo"
   ]
  },
  {
   "cell_type": "markdown",
   "metadata": {},
   "source": [
    "Hay veces en que una clase extiende el método de la superclase a la que pertenece, pero necesita ejecutar el método original como parte de la redefinición del método nuevo. Para referirte a la superclase, usá **super()**:"
   ]
  },
  {
   "cell_type": "code",
   "execution_count": 57,
   "metadata": {},
   "outputs": [],
   "source": [
    "class Lote:\n",
    "    def __init__(self, nombre, cajones, precio):\n",
    "        self.nombre = nombre\n",
    "        self.cajones = cajones\n",
    "        self.precio = precio\n",
    "\n",
    "    def costo(self):\n",
    "        return self.cajones * self.precio\n",
    "\n",
    "    def vender(self, ncajones):\n",
    "        self.cajones -= ncajones\n",
    "\n",
    "class MiLote(Lote):\n",
    "    def costo(self):\n",
    "        # Fijate cómo usamos `super`\n",
    "        costo_orig = super().costo()\n",
    "        return 1.25 * costo_orig"
   ]
  },
  {
   "cell_type": "code",
   "execution_count": 62,
   "metadata": {},
   "outputs": [],
   "source": [
    "c = Lote('Pera', 100, 490.1)\n",
    "d = MiLote('Pera', 100, 490.1)"
   ]
  },
  {
   "cell_type": "code",
   "execution_count": 63,
   "metadata": {},
   "outputs": [
    {
     "data": {
      "text/plain": [
       "49010.0"
      ]
     },
     "execution_count": 63,
     "metadata": {},
     "output_type": "execute_result"
    }
   ],
   "source": [
    "c.costo()"
   ]
  },
  {
   "cell_type": "code",
   "execution_count": 64,
   "metadata": {},
   "outputs": [
    {
     "data": {
      "text/plain": [
       "61262.5"
      ]
     },
     "execution_count": 64,
     "metadata": {},
     "output_type": "execute_result"
    }
   ],
   "source": [
    "d.costo()"
   ]
  },
  {
   "cell_type": "markdown",
   "metadata": {},
   "source": [
    "### El método *__init__* y herencia."
   ]
  },
  {
   "cell_type": "markdown",
   "metadata": {},
   "source": [
    "Al crear cada instancia se ejecuta `__init__`. Ahí reside el código importante para la creación de una instancia nueva. \n",
    "Si redefinís `__init__` siempre incluí un llamado al método `__init__` de la clase base para inicializarla también."
   ]
  },
  {
   "cell_type": "markdown",
   "metadata": {},
   "source": [
    "```python\n",
    "class Lote:\n",
    "    def __init__(self, nombre, cajones, precio):\n",
    "        self.nombre = nombre\n",
    "        self.cajones = cajones\n",
    "        self.precio = precio\n",
    "    ...\n",
    "\n",
    "\n",
    "class MiLote(Lote):\n",
    "    def __init__(self, nombre, cajones, precio, factor):\n",
    "        # Fijate como es el llamado a `super().__init__()`\n",
    "        super().__init__(nombre, cajones, precio)\n",
    "        self.factor = factor\n",
    "\n",
    "    def costo(self):\n",
    "        return self.factor * super().costo()\n",
    "```"
   ]
  },
  {
   "cell_type": "markdown",
   "metadata": {},
   "source": [
    "Es necesario llamar al método `__init__()` en la clase base. Es una forma de ejecutar la versión previa del método que estamos redefiniendo, como mostramos recién."
   ]
  },
  {
   "cell_type": "markdown",
   "metadata": {},
   "source": [
    "### Usos de la herencia"
   ]
  },
  {
   "cell_type": "markdown",
   "metadata": {},
   "source": [
    "Uno de los usos de definir una clase como heredera de otra es organizar jerárquicamente objetos que están relacionados.\n",
    "\n",
    "Imaginate por ejemplo su uso en una jerarquía lógica, o taxonómica, en la que las clases tienen una relación natural tal que hace intuitivo derivar una de otra.\n",
    "\n",
    "Una aplicación más común, y tal vez más práctica, consiste en escribir código que es reutilizable y/o extensible. Podríamos definir una clase base para una interfaz de transferencia de datos y permitir que cada fabricante de equipo de adquisición de datos implemente los detalles de comunicación con cada interfaz en particular"
   ]
  },
  {
   "cell_type": "markdown",
   "metadata": {},
   "source": [
    "```python\n",
    "class Procesador_de_datos(TCPHandler):\n",
    "    def procesar_pedido(self):\n",
    "        ...\n",
    "        # Procesamiento de datos\n",
    "```"
   ]
  },
  {
   "cell_type": "markdown",
   "metadata": {},
   "source": [
    "### Clase base abstracta"
   ]
  },
  {
   "cell_type": "markdown",
   "metadata": {},
   "source": [
    "A veces se suele crear una clase en la que solamente están definidas funciones a ser utilizadas, pero sin contenido.\n",
    "A esto se lo suele llamar **clase base abstracta** y sirve como una especie de especificación de diseño para otras clases."
   ]
  },
  {
   "cell_type": "markdown",
   "metadata": {},
   "source": [
    "## Polimorfismo"
   ]
  },
  {
   "cell_type": "markdown",
   "metadata": {},
   "source": [
    "Una de las grandes ventajas de la programación orientada a objetos es que podés cambiar un objeto por otro compatible y tu programa va a funcionar sin necesidad de adaptar el código que usa esos objetos.\n",
    "\n",
    "Si escribiste un programa diseñado para usar un objeto de la clase `FormatoTabla`, va a funcionar sin importar qué objeto de esa clase uses. A este comportamiento particular se lo llama **polimorfismo**. Está relacionado con la capacidad de usar la misma interfaz con diferentes objetos de la misma clase, haciendo que el programa como un todo se porte distinto."
   ]
  },
  {
   "cell_type": "markdown",
   "metadata": {},
   "source": [
    "## Métodos especiales"
   ]
  },
  {
   "cell_type": "markdown",
   "metadata": {},
   "source": [
    "Por regla general, los *métodos especiales* son lo que se conoce como ***dunders*** (*double unders* o *double underscores*)\n",
    "```python\n",
    "class Lote(Object):\n",
    "    def __init__(self):\n",
    "        ...\n",
    "    def __repr__(self):\n",
    "        ...\n",
    "```"
   ]
  },
  {
   "cell_type": "markdown",
   "metadata": {},
   "source": [
    "### Métodos especiales para convertir a strings"
   ]
  },
  {
   "cell_type": "markdown",
   "metadata": {},
   "source": [
    "Corta: está el `__str__` y el `__repr__`\n",
    "- str: Representación agradable de ver\n",
    "- repr: representación un poco más informativa para programadores"
   ]
  },
  {
   "cell_type": "markdown",
   "metadata": {},
   "source": [
    "Ejemplo:"
   ]
  },
  {
   "cell_type": "code",
   "execution_count": 65,
   "metadata": {},
   "outputs": [],
   "source": [
    "class Punto():\n",
    "    def __init__(self, x, y):\n",
    "        self.x = x\n",
    "        self.y = y\n",
    "\n",
    "    def __str__(self):\n",
    "        return f'({self.x}, {self.y})'\n",
    "\n",
    "    # Used with `repr()`\n",
    "    def __repr__(self):\n",
    "        return f'Punto({self.x}, {self.y})'"
   ]
  },
  {
   "cell_type": "code",
   "execution_count": 66,
   "metadata": {},
   "outputs": [],
   "source": [
    "a = Punto(0, 0)"
   ]
  },
  {
   "cell_type": "code",
   "execution_count": 67,
   "metadata": {},
   "outputs": [
    {
     "data": {
      "text/plain": [
       "'(0, 0)'"
      ]
     },
     "execution_count": 67,
     "metadata": {},
     "output_type": "execute_result"
    }
   ],
   "source": [
    "str(a)"
   ]
  },
  {
   "cell_type": "code",
   "execution_count": 68,
   "metadata": {},
   "outputs": [
    {
     "data": {
      "text/plain": [
       "'Punto(0, 0)'"
      ]
     },
     "execution_count": 68,
     "metadata": {},
     "output_type": "execute_result"
    }
   ],
   "source": [
    "repr(a)"
   ]
  },
  {
   "cell_type": "code",
   "execution_count": 69,
   "metadata": {},
   "outputs": [
    {
     "data": {
      "text/plain": [
       "Punto(0, 0)"
      ]
     },
     "execution_count": 69,
     "metadata": {},
     "output_type": "execute_result"
    }
   ],
   "source": [
    "a"
   ]
  },
  {
   "cell_type": "code",
   "execution_count": 70,
   "metadata": {},
   "outputs": [
    {
     "data": {
      "text/plain": [
       "'(0, 0)'"
      ]
     },
     "execution_count": 70,
     "metadata": {},
     "output_type": "execute_result"
    }
   ],
   "source": [
    "a.__str__()"
   ]
  },
  {
   "cell_type": "markdown",
   "metadata": {},
   "source": [
    "Todas formas de hacer lo mismo."
   ]
  },
  {
   "cell_type": "markdown",
   "metadata": {},
   "source": [
    "Hay muchos métodos especiales, vamos a listar algunos"
   ]
  },
  {
   "cell_type": "markdown",
   "metadata": {},
   "source": [
    "### Dunders matemáticos"
   ]
  },
  {
   "cell_type": "markdown",
   "metadata": {},
   "source": [
    "```python\n",
    "a + b       a.__add__(b)\n",
    "a - b       a.__sub__(b)\n",
    "a * b       a.__mul__(b)\n",
    "a / b       a.__truediv__(b)\n",
    "a // b      a.__floordiv__(b)\n",
    "a % b       a.__mod__(b)\n",
    "a << b      a.__lshift__(b)\n",
    "a >> b      a.__rshift__(b)\n",
    "a & b       a.__and__(b)\n",
    "a | b       a.__or__(b)\n",
    "a ^ b       a.__xor__(b)\n",
    "a ** b      a.__pow__(b)\n",
    "-a          a.__neg__()\n",
    "~a          a.__invert__()\n",
    "abs(a)      a.__abs__()\n",
    "```"
   ]
  },
  {
   "cell_type": "markdown",
   "metadata": {},
   "source": [
    "Con esto, por ejemplo, en el objeto Punto podemos definir una **suma especial** para vectores"
   ]
  },
  {
   "cell_type": "code",
   "execution_count": 76,
   "metadata": {},
   "outputs": [],
   "source": [
    "class Punto():\n",
    "    def __init__(self, x, y):\n",
    "        self.x = x\n",
    "        self.y = y\n",
    "\n",
    "    def __str__(self):\n",
    "        return f'({self.x}, {self.y})'\n",
    "\n",
    "    # Used with `repr()`\n",
    "    def __repr__(self):\n",
    "        return f'Punto({self.x}, {self.y})'\n",
    "    \n",
    "    def __add__(self, b):\n",
    "        res = Punto(self.x + b.x, self.y + b.y)\n",
    "        return res"
   ]
  },
  {
   "cell_type": "code",
   "execution_count": 79,
   "metadata": {},
   "outputs": [
    {
     "name": "stdout",
     "output_type": "stream",
     "text": [
      "A = (1, 2) | B = (2, 3) | C = (3, 5)\n"
     ]
    }
   ],
   "source": [
    "a = Punto(1, 2)\n",
    "b = Punto(2, 3)\n",
    "c = a + b\n",
    "print(f'A = {a} | B = {b} | C = {c}')"
   ]
  },
  {
   "cell_type": "markdown",
   "metadata": {},
   "source": [
    "**repiola!**"
   ]
  },
  {
   "cell_type": "markdown",
   "metadata": {},
   "source": [
    "### Métodos especiales para acceder a elementos"
   ]
  },
  {
   "cell_type": "markdown",
   "metadata": {},
   "source": [
    "Los siguientes métodos se usan para implementar contenedores:\n",
    "```python\n",
    "len(x)      x.__len__()\n",
    "x[a]        x.__getitem__(a)\n",
    "x[a] = v    x.__setitem__(a,v)\n",
    "del x[a]    x.__delitem__(a)\n",
    "```"
   ]
  },
  {
   "cell_type": "markdown",
   "metadata": {},
   "source": [
    "### Invocar métodos"
   ]
  },
  {
   "cell_type": "markdown",
   "metadata": {},
   "source": [
    "El proceso de invocar un método puede dividirse en dos partes:\n",
    "\n",
    "1. Búsqueda: Se usa el operator `.`\n",
    "2. Llamado: Se usan `()`"
   ]
  },
  {
   "cell_type": "markdown",
   "metadata": {},
   "source": [
    "```python\n",
    ">>> m = Lote('Pera', 100, 490.10)\n",
    ">>> c = m.costo  # Búsqueda\n",
    ">>> c\n",
    "<bound method Lote.costo of <Lote object at 0x590d0>>\n",
    ">>> c()          # Llamado\n",
    "49010.0\n",
    ">>>\n",
    "```"
   ]
  },
  {
   "cell_type": "markdown",
   "metadata": {},
   "source": [
    "### Acceso a atributos"
   ]
  },
  {
   "cell_type": "markdown",
   "metadata": {},
   "source": [
    "Existe una forma alternativa de acceder, manipular, y administrar los atributos de un objeto.\n",
    "\n",
    "```python\n",
    "getattr(obj, 'name')          # Equivale a obj.name\n",
    "setattr(obj, 'name', value)   # Equivale a obj.name = value\n",
    "delattr(obj, 'name')          # Equivale a del obj.name\n",
    "hasattr(obj, 'name')          # Mira si la propiedad existe\n",
    "```"
   ]
  },
  {
   "cell_type": "markdown",
   "metadata": {},
   "source": [
    "Ejemplo:\n",
    "```python\n",
    "if hasattr(obj, 'x'):\n",
    "    x = getattr(obj, 'x'):\n",
    "else:\n",
    "    x = None\n",
    "```"
   ]
  },
  {
   "cell_type": "code",
   "execution_count": null,
   "metadata": {},
   "outputs": [],
   "source": []
  }
 ],
 "metadata": {
  "kernelspec": {
   "display_name": "Python 3.8.5 64-bit",
   "language": "python",
   "name": "python38564bitd039cb132626430baf307fd5ffddc8c9"
  },
  "language_info": {
   "codemirror_mode": {
    "name": "ipython",
    "version": 3
   },
   "file_extension": ".py",
   "mimetype": "text/x-python",
   "name": "python",
   "nbconvert_exporter": "python",
   "pygments_lexer": "ipython3",
   "version": "3.8.5"
  }
 },
 "nbformat": 4,
 "nbformat_minor": 4
}
