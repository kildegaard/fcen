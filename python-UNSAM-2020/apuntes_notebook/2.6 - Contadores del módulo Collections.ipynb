{
 "cells": [
  {
   "cell_type": "markdown",
   "metadata": {},
   "source": [
    "# Contadores del Módulo *collections*"
   ]
  },
  {
   "cell_type": "markdown",
   "metadata": {},
   "source": [
    "El módulo `collections` ofrece objetos útiles para manejar datos. En esta sección introducimos brevemente los **contadores**, que son solo una de las clases incluidas en este módulo."
   ]
  },
  {
   "cell_type": "markdown",
   "metadata": {},
   "source": [
    "## Contadores"
   ]
  },
  {
   "cell_type": "markdown",
   "metadata": {},
   "source": [
    "Digamos que queremos armar una tabla con el total de cajones de cada fruta."
   ]
  },
  {
   "cell_type": "code",
   "execution_count": 1,
   "metadata": {},
   "outputs": [],
   "source": [
    "camion = [\n",
    "    ('Pera', 100, 490.1),\n",
    "    ('Naranja', 50, 91.1),\n",
    "    ('Caqui', 150, 83.44),\n",
    "    ('Naranja', 100, 45.23),\n",
    "    ('Pera', 75, 572.45),\n",
    "    ('Lima', 50, 23.15)\n",
    "]"
   ]
  },
  {
   "cell_type": "markdown",
   "metadata": {},
   "source": [
    "Hay dos entradas de *Naranja* y de *Pera* en la lista. Queremos combinar esos cajones en un solo dato. Ahí es cuando recurrimos a los **contadores**."
   ]
  },
  {
   "cell_type": "code",
   "execution_count": 2,
   "metadata": {},
   "outputs": [
    {
     "data": {
      "text/plain": [
       "150"
      ]
     },
     "execution_count": 2,
     "metadata": {},
     "output_type": "execute_result"
    }
   ],
   "source": [
    "from collections import Counter\n",
    "\n",
    "total_cajones = Counter()\n",
    "for nombre, n_cajones, _ in camion:\n",
    "    total_cajones[nombre] += n_cajones\n",
    "\n",
    "total_cajones['Naranja']"
   ]
  },
  {
   "cell_type": "markdown",
   "metadata": {},
   "source": [
    "Vamos a armar acá el ejemplo con el camión de frutas."
   ]
  },
  {
   "cell_type": "code",
   "execution_count": 13,
   "metadata": {},
   "outputs": [
    {
     "data": {
      "text/plain": [
       "[('Lima', 100, 32.2),\n",
       " ('Naranja', 50, 91.1),\n",
       " ('Caqui', 150, 103.44),\n",
       " ('Mandarina', 200, 51.23),\n",
       " ('Durazno', 95, 40.37),\n",
       " ('Mandarina', 50, 65.1),\n",
       " ('Naranja', 100, 70.44)]"
      ]
     },
     "execution_count": 13,
     "metadata": {},
     "output_type": "execute_result"
    }
   ],
   "source": [
    "from informe import *\n",
    "\n",
    "camion = leer_camion('../Data/camion.csv')\n",
    "camion"
   ]
  },
  {
   "cell_type": "code",
   "execution_count": 16,
   "metadata": {},
   "outputs": [
    {
     "data": {
      "text/plain": [
       "Counter({'Lima': 100,\n",
       "         'Naranja': 150,\n",
       "         'Caqui': 150,\n",
       "         'Mandarina': 250,\n",
       "         'Durazno': 95})"
      ]
     },
     "execution_count": 16,
     "metadata": {},
     "output_type": "execute_result"
    }
   ],
   "source": [
    "tenencias = Counter()\n",
    "for s in camion:\n",
    "    tenencias[s[0]] += s[1]\n",
    "tenencias"
   ]
  },
  {
   "cell_type": "markdown",
   "metadata": {},
   "source": [
    "Vemos que contabilizó los cajones de cada s[0] (que sería s['nombre'] de haber sido un diccionario).<br>\n",
    "\n",
    "Es como que genera un diccionario con las **keys** únicas (no hay otra forma) y, por como armamos el código, va a ir sumando el número de cajones.<br>\n"
   ]
  },
  {
   "cell_type": "code",
   "execution_count": 23,
   "metadata": {},
   "outputs": [
    {
     "data": {
      "text/plain": [
       "dict_keys(['Lima', 'Naranja', 'Caqui', 'Mandarina', 'Durazno'])"
      ]
     },
     "execution_count": 23,
     "metadata": {},
     "output_type": "execute_result"
    }
   ],
   "source": [
    "tenencias.keys()"
   ]
  },
  {
   "cell_type": "code",
   "execution_count": 24,
   "metadata": {},
   "outputs": [
    {
     "data": {
      "text/plain": [
       "0"
      ]
     },
     "execution_count": 24,
     "metadata": {},
     "output_type": "execute_result"
    }
   ],
   "source": [
    "tenencias['Fort']"
   ]
  },
  {
   "cell_type": "code",
   "execution_count": 22,
   "metadata": {},
   "outputs": [
    {
     "data": {
      "text/plain": [
       "100"
      ]
     },
     "execution_count": 22,
     "metadata": {},
     "output_type": "execute_result"
    }
   ],
   "source": [
    "tenencias['Lima']"
   ]
  },
  {
   "cell_type": "code",
   "execution_count": 26,
   "metadata": {},
   "outputs": [
    {
     "data": {
      "text/plain": [
       "'Caqui'"
      ]
     },
     "execution_count": 26,
     "metadata": {},
     "output_type": "execute_result"
    }
   ],
   "source": [
    "min(tenencias)"
   ]
  },
  {
   "cell_type": "code",
   "execution_count": 25,
   "metadata": {},
   "outputs": [
    {
     "data": {
      "text/plain": [
       "'Naranja'"
      ]
     },
     "execution_count": 25,
     "metadata": {},
     "output_type": "execute_result"
    }
   ],
   "source": [
    "max(tenencias)"
   ]
  },
  {
   "cell_type": "markdown",
   "metadata": {},
   "source": [
    "Vemos que podemos hacer muchas operaciones"
   ]
  },
  {
   "cell_type": "markdown",
   "metadata": {},
   "source": [
    "***\n",
    "***"
   ]
  },
  {
   "cell_type": "markdown",
   "metadata": {},
   "source": [
    "Esto es algo que tenía una duda y quise dejarlo asentado.\n",
    "<br>\n",
    "Cómo cambiarle el orden key:value, convirtiendo un diccionario en una lista de tuplas (creo que esto también está en el apunte 2.5)"
   ]
  },
  {
   "cell_type": "code",
   "execution_count": 27,
   "metadata": {},
   "outputs": [
    {
     "data": {
      "text/plain": [
       "'Pera'"
      ]
     },
     "execution_count": 27,
     "metadata": {},
     "output_type": "execute_result"
    }
   ],
   "source": [
    "d = {\n",
    "    'Naranja': 100,\n",
    "    'Arvejas': 1,\n",
    "    'Pera': 50\n",
    "}\n",
    "max(d)"
   ]
  },
  {
   "cell_type": "code",
   "execution_count": 28,
   "metadata": {},
   "outputs": [
    {
     "data": {
      "text/plain": [
       "(100, 'Naranja')"
      ]
     },
     "execution_count": 28,
     "metadata": {},
     "output_type": "execute_result"
    }
   ],
   "source": [
    "d1 = list(zip(d.values(), d.keys()))\n",
    "max(d1)"
   ]
  },
  {
   "cell_type": "markdown",
   "metadata": {},
   "source": [
    "***\n",
    "***"
   ]
  },
  {
   "cell_type": "markdown",
   "metadata": {},
   "source": [
    "Podés listar las tres frutas con mayores tenencias:"
   ]
  },
  {
   "cell_type": "code",
   "execution_count": 29,
   "metadata": {},
   "outputs": [
    {
     "data": {
      "text/plain": [
       "[('Mandarina', 250), ('Naranja', 150), ('Caqui', 150)]"
      ]
     },
     "execution_count": 29,
     "metadata": {},
     "output_type": "execute_result"
    }
   ],
   "source": [
    "tenencias.most_common(3)"
   ]
  },
  {
   "cell_type": "markdown",
   "metadata": {},
   "source": [
    "Vamos a cargar datos de otro camión en un nuevo contador."
   ]
  },
  {
   "cell_type": "code",
   "execution_count": 31,
   "metadata": {},
   "outputs": [
    {
     "data": {
      "text/plain": [
       "Counter({'Lima': 50, 'Frambuesa': 250, 'Mandarina': 25, 'Durazno': 125})"
      ]
     },
     "execution_count": 31,
     "metadata": {},
     "output_type": "execute_result"
    }
   ],
   "source": [
    "camion2 = leer_camion('../Data/camion2.csv')\n",
    "tenencias2 = Counter()\n",
    "for s in camion2:\n",
    "    tenencias2[s[0]] += s[1]\n",
    "\n",
    "tenencias2"
   ]
  },
  {
   "cell_type": "markdown",
   "metadata": {},
   "source": [
    "Y ahora vamos a ver que se pueden combinar dos contadores.\n",
    "<br>\n",
    "En este caso, querríamos ver las tenencias totales entre ambos camiones."
   ]
  },
  {
   "cell_type": "code",
   "execution_count": 33,
   "metadata": {},
   "outputs": [
    {
     "data": {
      "text/plain": [
       "Counter({'Lima': 150,\n",
       "         'Naranja': 150,\n",
       "         'Caqui': 150,\n",
       "         'Mandarina': 275,\n",
       "         'Durazno': 220,\n",
       "         'Frambuesa': 250})"
      ]
     },
     "execution_count": 33,
     "metadata": {},
     "output_type": "execute_result"
    }
   ],
   "source": [
    "combinada = tenencias + tenencias2\n",
    "combinada"
   ]
  }
 ],
 "metadata": {
  "kernelspec": {
   "display_name": "Python 3",
   "language": "python",
   "name": "python3"
  },
  "language_info": {
   "codemirror_mode": {
    "name": "ipython",
    "version": 3
   },
   "file_extension": ".py",
   "mimetype": "text/x-python",
   "name": "python",
   "nbconvert_exporter": "python",
   "pygments_lexer": "ipython3",
   "version": "3.8.3"
  }
 },
 "nbformat": 4,
 "nbformat_minor": 4
}
