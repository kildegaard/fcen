{
  "nbformat": 4,
  "nbformat_minor": 0,
  "metadata": {
    "colab": {
      "provenance": []
    },
    "kernelspec": {
      "name": "python3",
      "display_name": "Python 3"
    }
  },
  "cells": [
    {
      "cell_type": "markdown",
      "metadata": {
        "id": "Zr_CZSxsFAkG"
      },
      "source": [
        "---\n",
        "#Ejercicios Para Notebook 1\n",
        "Preparamos una serie de ejercicios para que pongas lo aprendido en el Notebook 1 en acción.\n",
        "\n",
        "\n",
        "---"
      ]
    },
    {
      "cell_type": "markdown",
      "metadata": {
        "id": "l3KRh545SgTz"
      },
      "source": [
        "## Ejercicio 1.1: Armar una calculadora\n",
        "\n",
        "##### Hacer una calculadora definiendo funciones de operación. En particular: \n",
        "#####a. Hacer una función que sume números\n",
        "#####b. Hacer una función que reste números\n",
        "#####c. Hacer una función que multiplique números\n",
        "#####d. Hacer una función que divida números\n",
        "#####e. Hacer una función que calcule una potencia de un número\n",
        "#####f. Hacer una función que calcule una raíz cuadrada de un número\n",
        "#####g. Probar la calculadora y chequear qué tipo (\"type\") de resultado se obtuvo.\n",
        "#####h. Imprimir un string en la pantalla que diga el resultado de los cálculos (usar la función `str()` para convertir los números en strings.)\n",
        "\n",
        "\n",
        "- TIP 1: Una forma de hacerlo es usar los comandos `def` y `return` , por ejemplo: \n",
        "```\n",
        "def function_name(x, y):\n",
        "    return poner-acá-expresión-matemática-que-quieras-hacer\n",
        "function_name(1, 2)\n",
        "```\n",
        "- TIP 2: Python tiene funciones integradas que se pueden usar, como: \n",
        "\n",
        "pow(): devuelve la potencia de un número\n",
        "\n",
        "abs(): devuelve el valor absoluto de un número\n"
      ]
    },
    {
      "cell_type": "code",
      "source": [
        "#a.\n"
      ],
      "metadata": {
        "id": "IrcN853ycZwx"
      },
      "execution_count": null,
      "outputs": []
    },
    {
      "cell_type": "code",
      "source": [
        "#b.\n"
      ],
      "metadata": {
        "id": "-4mHdTdacgnJ"
      },
      "execution_count": null,
      "outputs": []
    },
    {
      "cell_type": "code",
      "source": [
        "#c.\n"
      ],
      "metadata": {
        "id": "xLGrDtpSclHM"
      },
      "execution_count": null,
      "outputs": []
    },
    {
      "cell_type": "code",
      "source": [
        "#d.\n"
      ],
      "metadata": {
        "id": "R7mhTWKick77"
      },
      "execution_count": null,
      "outputs": []
    },
    {
      "cell_type": "code",
      "source": [
        "#e.\n"
      ],
      "metadata": {
        "id": "htVPL-_Lckxr"
      },
      "execution_count": null,
      "outputs": []
    },
    {
      "cell_type": "code",
      "source": [
        "#f.\n"
      ],
      "metadata": {
        "id": "nppbt7W4ckkN"
      },
      "execution_count": null,
      "outputs": []
    },
    {
      "cell_type": "code",
      "source": [
        "#g.\n"
      ],
      "metadata": {
        "id": "IIhex-_8cjY9"
      },
      "execution_count": null,
      "outputs": []
    },
    {
      "cell_type": "code",
      "source": [
        "#h.\n"
      ],
      "metadata": {
        "id": "3HxNbTT2ciIm"
      },
      "execution_count": null,
      "outputs": []
    },
    {
      "cell_type": "markdown",
      "metadata": {
        "id": "EHui5Ukt39ew"
      },
      "source": [
        "## Ejercicio 1.2:\n",
        "#####. Hacer una lista que contenga números junto con algunos strings.\n",
        "#####. Hacer una función que devuelva el tipo de dato (type) de los diferentes elementos de la lista."
      ]
    },
    {
      "cell_type": "code",
      "source": [],
      "metadata": {
        "id": "jyLiZrfb87SW"
      },
      "execution_count": null,
      "outputs": []
    },
    {
      "cell_type": "markdown",
      "metadata": {
        "id": "3YNfKse8RTI1"
      },
      "source": [
        "## Ejercicio 1.3: DataFrames\n",
        "#####. Cargar el dataset llamado \"planets\" contenido en la librería Seaborn.\n",
        "#####. Encontrar la distancia media para todos los datos anteriores a 2010.\n",
        "TIP: Primero hacer un nuevo DataFrame que sólo tenga datos anteriores a 2010. Extraer la columna de distancia de allí. Finalmente, encontrar un método que calcule la distancia media.\n"
      ]
    },
    {
      "cell_type": "code",
      "source": [],
      "metadata": {
        "id": "Tze1vz2s88CO"
      },
      "execution_count": null,
      "outputs": []
    },
    {
      "cell_type": "markdown",
      "metadata": {
        "id": "05afbiHubHvK"
      },
      "source": [
        "## Ejercicio 1.4:\n",
        "#####. Cargar el dataset contenido en Seaborn llamado \"flights\"\n",
        "#####. Plotear el número de pasajeros para cada año. (Si se quiere, se puede distinguir un mes de otro usando el parámetro de \"hue\" para ver muchos ploteos a la vez dentro del mismo gráfico)\n",
        "#####. ¿Se puede sacar formular algunas conclusiones mirando este gráfico simple? \n",
        "\n",
        "\n"
      ]
    },
    {
      "cell_type": "code",
      "source": [],
      "metadata": {
        "id": "4sdV7pgIOh4i"
      },
      "execution_count": null,
      "outputs": []
    },
    {
      "cell_type": "markdown",
      "metadata": {
        "id": "7LW6EUkirg2U"
      },
      "source": [
        "---\n",
        "# Ejercicios avanzados / de investigación\n",
        "\n",
        "#####En esta sección te animamos a que investigues algunas bibliotecas nuevas que se utilizan habitualmente en el análisis de datos. Por ejemplo, numpy es una biblioteca muy utilizada para cualquier tarea algebraica, y también proporciona los métodos básicos para muchas otras bibliotecas. Se proporcionarán enlaces a la documentación para que puedas completar las tareas. Muchas de estas bibliotecas están disponibles en Google Collab, sin necesidad de instalarlas (a diferencia de Pingouin).\n",
        "\n",
        "\n",
        "---\n",
        "\n",
        "\n"
      ]
    },
    {
      "cell_type": "markdown",
      "metadata": {
        "id": "oNm2v1tO3V3A"
      },
      "source": [
        " ### Ejemplo en Numpy\n",
        " \n",
        " \n",
        "Digamos que queremos hacer una suma con numpy. Numpy tiene un método llamado \"add\" que usa 2 parámetros arbitrarios como los números que queremos añadir. Se puede consultar la documentación de numpy completa en [este enlace](https://numpy.org/doc/stable/reference/routines.math.html) \n"
      ]
    },
    {
      "cell_type": "code",
      "metadata": {
        "colab": {
          "base_uri": "https://localhost:8080/"
        },
        "id": "BrdVsDW14U8F",
        "outputId": "0d1a13b0-213c-47cb-f707-31e3bc6ac00c"
      },
      "source": [
        "import numpy as np\n",
        "np.add(2,3)"
      ],
      "execution_count": null,
      "outputs": [
        {
          "output_type": "execute_result",
          "data": {
            "text/plain": [
              "5"
            ]
          },
          "metadata": {
            "tags": []
          },
          "execution_count": 1
        }
      ]
    },
    {
      "cell_type": "markdown",
      "metadata": {
        "id": "ACilte2z4j25"
      },
      "source": [
        "También se pueden hacer otras operaciones, como convertir grados en radianes. Numpy inlcuye todos los números irracionales como $\\pi$ (`np.pi`)."
      ]
    },
    {
      "cell_type": "code",
      "metadata": {
        "colab": {
          "base_uri": "https://localhost:8080/"
        },
        "id": "cUplfY8r4wHE",
        "outputId": "fa785bc7-c496-4d26-a32d-8596f089f4a0"
      },
      "source": [
        "Pi=np.pi\n",
        "np.degrees(Pi)"
      ],
      "execution_count": null,
      "outputs": [
        {
          "output_type": "execute_result",
          "data": {
            "text/plain": [
              "180.0"
            ]
          },
          "metadata": {
            "tags": []
          },
          "execution_count": 4
        }
      ]
    },
    {
      "cell_type": "markdown",
      "metadata": {
        "id": "aEIlGbmy5NLQ"
      },
      "source": [
        "\n",
        "### Ejemplo en Matplotlib\n",
        "##### Matplotlib es la biblioteca para graficar más utilizada para Python. Usamos Seaborn por su simple sintaxis y su alta aplicabilidad para estadística, pero Seaborn se basa en Matplotlib. Cuando se necesita hacer un gráfico muy específico con encabezados, barras de herramientas, títulos, etiquetas, interactividad y muchas otras adiciones, el uso directo de matplotlib es a menudo el camino a seguir. [Enlace de documentación de matplotlib](https://matplotlib.org/contents.html).\n",
        "##### Acá sólo vamos a mostrar cómo hacer una gráfico bastante simple con algunas etiquetas.\n"
      ]
    },
    {
      "cell_type": "code",
      "metadata": {
        "colab": {
          "base_uri": "https://localhost:8080/",
          "height": 265
        },
        "id": "b4iOT2-G5_rJ",
        "outputId": "62eec13f-2e04-4160-96bf-c9590b261e48"
      },
      "source": [
        "import matplotlib.pyplot as plt\n",
        "xvalues=[1,2,3,4] #Hacer una lista de x valores\n",
        "yvalues=[3,6,9,12] #Hacer una lista de y valores\n",
        "plt.xlabel= \"The X Values\" #Poner las etiquetas (labels) para x\n",
        "plt.ylabel= \"The Y Values\" #Poner los labels para y\n",
        "plt.plot(xvalues, yvalues, \".\") #Decirle que haga el ploteo\n",
        "plt.show() #Decirle a Pyhton que finalmente muestre el ploteo"
      ],
      "execution_count": null,
      "outputs": [
        {
          "output_type": "display_data",
          "data": {
            "image/png": "[encoded data removed]",
            "text/plain": [
              "<Figure size 432x288 with 1 Axes>"
            ]
          },
          "metadata": {
            "tags": [],
            "needs_background": "light"
          }
        }
      ]
    },
    {
      "cell_type": "markdown",
      "metadata": {
        "id": "LSjwF0p03QGQ"
      },
      "source": [
        "### Ejercicio 1.5: Calculando valores trigonométricos\n",
        "\n",
        "Si recordamos algo de trigonometría, se demuestra que el sin(30°) es exactamente 0,5. Sin embargo, las computadoras utilizan series de Taylor y técnicas relacionadas para estimar tales valores.\n",
        "##### Mostrar que el número 0,5 difiere del sin(30°) para una computadora.\n",
        "##### CONSEJO: Utilizar el numpy para calcular el seno, luego hacer una comparación mostrando que los 2 valores no son iguales.\n"
      ]
    },
    {
      "cell_type": "code",
      "source": [],
      "metadata": {
        "id": "LS0QD9rTb70I"
      },
      "execution_count": null,
      "outputs": []
    }
  ]
}